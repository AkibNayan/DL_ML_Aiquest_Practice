{
 "cells": [
  {
   "cell_type": "markdown",
   "id": "574310bd-cb6a-4180-8e3d-aee18df1b25c",
   "metadata": {},
   "source": [
    "1. Variable Swap: Write a Python program to swap the values of two variables without using a temporary variable."
   ]
  },
  {
   "cell_type": "code",
   "execution_count": 8,
   "id": "c52461ed-1b4c-4cea-bd2d-2274f561f85a",
   "metadata": {},
   "outputs": [
    {
     "name": "stdout",
     "output_type": "stream",
     "text": [
      "The value of a is: 20\n",
      "The value of b is: 10\n"
     ]
    }
   ],
   "source": [
    "a = 10\n",
    "b = 20\n",
    "def swap(a, b):\n",
    "    a, b = b, a\n",
    "    return a, b\n",
    "print(f\"The value of a is: {swap(a, b)[0]}\")\n",
    "print(f\"The value of b is: {swap(a, b)[1]}\")"
   ]
  },
  {
   "cell_type": "markdown",
   "id": "d41352ae-325a-4a4c-83d8-0d2df8e31267",
   "metadata": {},
   "source": [
    "2. Even or Odd: Write a Python program that takes an integer as input and prints whether it is even or odd"
   ]
  },
  {
   "cell_type": "code",
   "execution_count": 11,
   "id": "d1db2554-f672-4692-9f41-3b5ef9491dd1",
   "metadata": {},
   "outputs": [
    {
     "name": "stdin",
     "output_type": "stream",
     "text": [
      "Enter a valid integer number:  48\n"
     ]
    },
    {
     "name": "stdout",
     "output_type": "stream",
     "text": [
      "The given integer is even\n"
     ]
    }
   ],
   "source": [
    "def num_type(n):\n",
    "    if n % 2 == 0:\n",
    "        print(\"The given integer is even\")\n",
    "    else:\n",
    "        print(\"The given integer is odd\")\n",
    "n = int(input(\"Enter a valid integer number: \"))\n",
    "num_type(n)"
   ]
  },
  {
   "cell_type": "markdown",
   "id": "53ee3459-c515-49a6-9a35-74054ccf9c2c",
   "metadata": {},
   "source": [
    "3. String Reverse: Write a Python function to reverse a given string and return the reversed string."
   ]
  },
  {
   "cell_type": "code",
   "execution_count": 24,
   "id": "bd6c15d8-8d42-44a1-a59e-ffbaccb6605c",
   "metadata": {},
   "outputs": [
    {
     "name": "stdin",
     "output_type": "stream",
     "text": [
      "Enter a string:  geeks\n"
     ]
    },
    {
     "name": "stdout",
     "output_type": "stream",
     "text": [
      "skeeg\n"
     ]
    }
   ],
   "source": [
    "def reverse_string(text):\n",
    "    text = text[::-1]\n",
    "    return text\n",
    "    \n",
    "text = input(\"Enter a string: \")\n",
    "print(reverse_string(text))"
   ]
  },
  {
   "cell_type": "markdown",
   "id": "65b4d76d-b325-4c5a-9cb0-a0c72dc02c69",
   "metadata": {},
   "source": [
    "4. Type Conversion: Given a list of integers, write a Python program to convert each element of the list to a string"
   ]
  },
  {
   "cell_type": "code",
   "execution_count": 32,
   "id": "6b6e8f41-fe7b-4279-ab64-9ce8e7e4c81b",
   "metadata": {},
   "outputs": [
    {
     "name": "stdout",
     "output_type": "stream",
     "text": [
      "['2', '5', '10', '23', '40']\n"
     ]
    }
   ],
   "source": [
    "list = [2, 5, 10, 23, 40]\n",
    "def type_conversion(list):\n",
    "    new_list = []\n",
    "    for i in list:\n",
    "        new_list.append(str(i))\n",
    "    return new_list\n",
    "print(type_conversion(list))"
   ]
  },
  {
   "cell_type": "markdown",
   "id": "7f60b777-a189-46c4-a3e5-129f8281daac",
   "metadata": {},
   "source": [
    "5. Temperature Converter: Write a Python program that converts a temperature in Celsius to Fahrenheit. Take the Celsius temperature as input from the user."
   ]
  },
  {
   "cell_type": "code",
   "execution_count": 38,
   "id": "a218106f-7cd0-4e22-b931-7ef27ed34777",
   "metadata": {},
   "outputs": [
    {
     "name": "stdin",
     "output_type": "stream",
     "text": [
      "Enter temperature in Celsius:  36\n"
     ]
    },
    {
     "name": "stdout",
     "output_type": "stream",
     "text": [
      "96.8\n"
     ]
    }
   ],
   "source": [
    "def Fahrenheit(celsius):\n",
    "    celsi = ((9 * celsius)/5) + 32\n",
    "    return celsi\n",
    "celsius = float(input(\"Enter temperature in Celsius: \"))\n",
    "print(Fahrenheit(celsius))"
   ]
  },
  {
   "cell_type": "markdown",
   "id": "f6b8a2a1-7134-4e3a-aca3-19604c4b293e",
   "metadata": {},
   "source": [
    "6. Data Type Checker: Write a Python function that takes a variable as input and returns the data type of the variable as a string (e.g., “int”, “float”, “str”, “list”, etc.)"
   ]
  },
  {
   "cell_type": "code",
   "execution_count": 56,
   "id": "8119c8df-0584-4b9a-96b1-b4511ed3a5a5",
   "metadata": {},
   "outputs": [
    {
     "name": "stdout",
     "output_type": "stream",
     "text": [
      "<class 'float'>\n",
      "23.2\n",
      "Returned type is : <class 'str'>\n"
     ]
    }
   ],
   "source": [
    "def type_conversion(variable):\n",
    "    print(variable)\n",
    "    return type(str(variable))\n",
    "\n",
    "variable = 23.2\n",
    "print(type(variable))\n",
    "print(\"Returned type is :\",type_conversion(variable))"
   ]
  },
  {
   "cell_type": "markdown",
   "id": "a2a2e238-cafa-4c44-b420-d689012ff12d",
   "metadata": {},
   "source": [
    "7. String Palindrome: Write a Python function to check if a given string is a palindrome or not."
   ]
  },
  {
   "cell_type": "code",
   "execution_count": 61,
   "id": "6e7ef421-f9e3-48e4-9864-3ef740c0daa7",
   "metadata": {},
   "outputs": [
    {
     "name": "stdout",
     "output_type": "stream",
     "text": [
      "The given string is palindrome\n"
     ]
    }
   ],
   "source": [
    "def palindrome(string):\n",
    "    original = string\n",
    "    string = string[::-1]\n",
    "    if string == original:\n",
    "        print(\"The given string is palindrome\")\n",
    "    else:\n",
    "        print(\"The given string is not palindrome\")\n",
    "string = \"madam\"\n",
    "palindrome(string)"
   ]
  },
  {
   "cell_type": "markdown",
   "id": "b2e5b22d-fa51-4b03-a478-27a87be67962",
   "metadata": {},
   "source": [
    "8. String Reversal with Slicing: Write a Python function to reverse a given string using slicing."
   ]
  },
  {
   "cell_type": "code",
   "execution_count": 63,
   "id": "47103d8d-b5ed-4dd0-8d67-5e30c42ab5f4",
   "metadata": {},
   "outputs": [
    {
     "name": "stdout",
     "output_type": "stream",
     "text": [
      "skeeGrofskeeG\n"
     ]
    }
   ],
   "source": [
    "def reverse(string):\n",
    "    string = string[::-1]\n",
    "    return string\n",
    "string = \"GeeksforGeeks\"\n",
    "print(reverse(string))"
   ]
  },
  {
   "cell_type": "markdown",
   "id": "7ae8557f-e042-4959-ac1f-ebc9905d3be1",
   "metadata": {},
   "source": [
    "9. String Concatenation: Write a Python program that takes two strings as input and concatenates them into a single string without using the `+` operator."
   ]
  },
  {
   "cell_type": "code",
   "execution_count": 79,
   "id": "0cecaf79-5c7d-4f06-bf62-b066cfc491a7",
   "metadata": {},
   "outputs": [
    {
     "name": "stdout",
     "output_type": "stream",
     "text": [
      "Hello World\n"
     ]
    }
   ],
   "source": [
    "def stringConcate(str1, str2):\n",
    "    str3 = \" \".join([str1, str2])\n",
    "    return str3\n",
    "print(stringConcate(\"Hello\", \"World\"))"
   ]
  },
  {
   "cell_type": "markdown",
   "id": "a355c6d0-cea8-487e-afec-1191c50c7e2e",
   "metadata": {},
   "source": [
    "10. Typecasting Challenge: Given three variables: `a = ‘100’`, `b = 25`, and `c = ‘10.5’`, write a Python program to perform the following operations and print the results: – Convert `a` to an integer and add it to `b`. –\r\n",
    "Convert `c` to a float and subtract it from the result of the first operation. – Convert the final result to a string and concatenate it with the string ” is the answer.”"
   ]
  },
  {
   "cell_type": "code",
   "execution_count": 87,
   "id": "bf2fa223-50f3-429c-860f-24bdaf1be780",
   "metadata": {},
   "outputs": [
    {
     "data": {
      "text/plain": [
       "'114.5 is the answer'"
      ]
     },
     "execution_count": 87,
     "metadata": {},
     "output_type": "execute_result"
    }
   ],
   "source": [
    "def operations(a, b, c):\n",
    "    a = int(a)\n",
    "    add = a + b\n",
    "    c = float(c)\n",
    "    sub = add - c\n",
    "    sub = str(sub)\n",
    "    string = \" \".join([sub, \"is the answer\"])\n",
    "    return string\n",
    "a = '100'\n",
    "b = 25\n",
    "c = '10.5'\n",
    "operations(a, b, c)"
   ]
  },
  {
   "cell_type": "markdown",
   "id": "c13193e0-8f17-42f6-a963-20bf8ccc03e5",
   "metadata": {},
   "source": [
    "Python Conditional Statements:\r\n",
    "11. Positive, Negative, or Zero: Write a Python program that takes a number as input and prints whether it is positive, negative, or zero"
   ]
  },
  {
   "cell_type": "code",
   "execution_count": 94,
   "id": "b5e5327a-1487-4a1f-9aaf-12bda1327823",
   "metadata": {},
   "outputs": [
    {
     "name": "stdin",
     "output_type": "stream",
     "text": [
      "Enter a valid number: 23\n"
     ]
    },
    {
     "name": "stdout",
     "output_type": "stream",
     "text": [
      "Positive Number\n"
     ]
    }
   ],
   "source": [
    "def numType(num):\n",
    "    if num > 0:\n",
    "        print(\"Positive Number\")\n",
    "    elif num < 0:\n",
    "        print(\"Negative Number\")\n",
    "    else:\n",
    "        print(\"Zero\")\n",
    "n = int(input(\"Enter a valid number:\"))\n",
    "numType(n)"
   ]
  },
  {
   "cell_type": "markdown",
   "id": "7353957a-14a4-4115-9a0e-84b5ea29217d",
   "metadata": {},
   "source": [
    "12. Largest of Three Numbers: Write a Python program that takes three numbers as input and prints the largest among them."
   ]
  },
  {
   "cell_type": "code",
   "execution_count": 98,
   "id": "c75dfcf3-64c3-431e-bd56-9999f6ec5854",
   "metadata": {},
   "outputs": [
    {
     "name": "stdin",
     "output_type": "stream",
     "text": [
      "Enter first number -20\n",
      "Enter Second number 10\n",
      "Enter Third number 5\n"
     ]
    },
    {
     "name": "stdout",
     "output_type": "stream",
     "text": [
      "10 is the largest value\n"
     ]
    }
   ],
   "source": [
    "def largest(a, b, c):\n",
    "    if a >= b and a >= c:\n",
    "        print(f\"{a} is the largest value\")\n",
    "    elif b >= a and b >= c:\n",
    "        print(f\"{b} is the largest value\")\n",
    "    else:\n",
    "        print(f\"{c} is the largest value\")\n",
    "a = int(input(\"Enter first number\"))\n",
    "b = int(input(\"Enter Second number\"))\n",
    "c = int(input(\"Enter Third number\"))\n",
    "largest(a, b, c)"
   ]
  },
  {
   "cell_type": "markdown",
   "id": "47299ad4-3ca6-48f8-b5b7-b4b9366c8f79",
   "metadata": {},
   "source": [
    "13. Leap Year Checker: Write a Python program that takes a year as input and determines if it is a leap year or not."
   ]
  },
  {
   "cell_type": "code",
   "execution_count": 105,
   "id": "3c234392-3134-484f-a494-cb98b7c83d3f",
   "metadata": {},
   "outputs": [
    {
     "name": "stdin",
     "output_type": "stream",
     "text": [
      "Enter a valid year 2020\n"
     ]
    },
    {
     "name": "stdout",
     "output_type": "stream",
     "text": [
      "2020 is a leap year\n"
     ]
    }
   ],
   "source": [
    "def leapYear(year):\n",
    "    if year % 4 == 0 and year % 100 != 0:\n",
    "        print(f\"{year} is a leap year\")\n",
    "    elif year % 100 == 0 and year % 400 == 0:\n",
    "        print(f\"{year} is a leap year\")\n",
    "    else:\n",
    "        print(f\"{year} is not a leap year\")\n",
    "year = int(input(\"Enter a valid year\"))\n",
    "leapYear(year)"
   ]
  },
  {
   "cell_type": "markdown",
   "id": "84da6fd2-4084-4e85-aadd-38c2f35156c8",
   "metadata": {},
   "source": [
    "14. Grades Classification: Write a Python program that takes a student’s percentage as input and prints their corresponding grade according to the following criteria: – 90% or above: A+ – 80-89%: A – 70-79%: B – 60-\r\n",
    "69%: C – Below 60%: Fail"
   ]
  },
  {
   "cell_type": "code",
   "execution_count": 117,
   "id": "8b5853aa-277e-44ee-a458-cc4ce09fa31d",
   "metadata": {},
   "outputs": [
    {
     "name": "stdin",
     "output_type": "stream",
     "text": [
      "Enter a valid student percentage: 97\n"
     ]
    },
    {
     "name": "stdout",
     "output_type": "stream",
     "text": [
      "A+\n"
     ]
    }
   ],
   "source": [
    "def grade(percentage):\n",
    "    if percentage < 0 or percentage > 100:\n",
    "        print(\"Please Enter student percentage between 0 and 100\")\n",
    "    elif percentage >= 90 and percentage <= 100:\n",
    "        print(\"A+\")\n",
    "    elif percentage >=80 and percentage <= 89:\n",
    "        print(\"A\")\n",
    "    elif percentage >= 70 and percentage <= 79:\n",
    "        print(\"A-\")\n",
    "    elif percentage >= 60 and percentage <= 69:\n",
    "        print(\"B\")\n",
    "    elif percentage < 60:\n",
    "        print(\"Fail\")\n",
    "percentage = int(input(\"Enter a valid student percentage:\"))\n",
    "grade(percentage)"
   ]
  },
  {
   "cell_type": "markdown",
   "id": "de26cfc5-f01f-4742-b38c-e72ad33e8545",
   "metadata": {},
   "source": [
    "15. Vowel or Consonant: Write a Python program that takes a single character as input and determines whether it is a vowel or a consonant."
   ]
  },
  {
   "cell_type": "code",
   "execution_count": 123,
   "id": "aaeb9ed1-eb36-400d-ac13-a886d6f816b1",
   "metadata": {},
   "outputs": [
    {
     "name": "stdin",
     "output_type": "stream",
     "text": [
      "Enter a single character:  i\n"
     ]
    },
    {
     "name": "stdout",
     "output_type": "stream",
     "text": [
      "i is a vowel\n"
     ]
    }
   ],
   "source": [
    "def CharType(character):\n",
    "    if character in ['a', 'e', 'i', 'o', 'u']:\n",
    "        print(f\"{character} is a vowel\")\n",
    "    else:\n",
    "        print(f\"{character} is a consonant\")\n",
    "character = input(\"Enter a single character: \")\n",
    "CharType(character)"
   ]
  },
  {
   "cell_type": "markdown",
   "id": "0f3e2854-4e40-4f0e-baca-b6e3b278fc48",
   "metadata": {},
   "source": [
    "16. Time Classification: Write a Python program that takes the time in hours (24-hour format) as input and prints “Good Morning”, “Good Afternoon”, “Good Evening”, or “Good Night” based on the time"
   ]
  },
  {
   "cell_type": "code",
   "execution_count": 142,
   "id": "743cd5db-1bda-47e2-b38f-76e8446002f6",
   "metadata": {},
   "outputs": [
    {
     "name": "stdin",
     "output_type": "stream",
     "text": [
      "Enter time in hour format 3\n"
     ]
    },
    {
     "name": "stdout",
     "output_type": "stream",
     "text": [
      "Good Night\n"
     ]
    }
   ],
   "source": [
    "def Greetings(hour):\n",
    "    if hour < 0 or hour > 24:\n",
    "        print(\"Please enter hour between 0 and 24\")\n",
    "    elif hour >= 5 and hour < 12:\n",
    "        print(\"Good Morning\")\n",
    "    elif hour >= 12 and hour < 16:\n",
    "        print(\"Good Afternoon\")\n",
    "    elif hour >= 16 and hour < 20:\n",
    "        print(\"Good Evening\")\n",
    "    else:\n",
    "        print(\"Good Night\")\n",
    "hour = int(input(\"Enter time in hour format\"))\n",
    "Greetings(hour)"
   ]
  },
  {
   "cell_type": "markdown",
   "id": "0e2bd87b-1b93-40b4-884d-e6ffb8723ae3",
   "metadata": {},
   "source": [
    "17. Triangle Type Checker: Write a Python program that takes three sides of a triangle as input and determines whether it forms an equilateral, isosceles, or scalene triangle."
   ]
  },
  {
   "cell_type": "code",
   "execution_count": 1,
   "id": "8b18c567-9d43-4604-8e60-c76e30828277",
   "metadata": {},
   "outputs": [
    {
     "name": "stdin",
     "output_type": "stream",
     "text": [
      "Enter first input: 12\n",
      "Enter second input: 10\n",
      "Enter third input: 12\n"
     ]
    },
    {
     "name": "stdout",
     "output_type": "stream",
     "text": [
      "Isosceles triangle\n"
     ]
    }
   ],
   "source": [
    "def triangleType(x, y, z):\n",
    "    if x == y == z:\n",
    "        print(\"Equilateral triangle\")\n",
    "    elif x == y or y == z or z == x:\n",
    "        print(\"Isosceles triangle\")\n",
    "    else:\n",
    "        print(\"Scalene triangle\")\n",
    "a = int(input(\"Enter first input:\"))\n",
    "b = int(input(\"Enter second input:\"))\n",
    "c = int(input(\"Enter third input:\"))\n",
    "triangleType(a, b, c)"
   ]
  },
  {
   "cell_type": "markdown",
   "id": "07853450-cc31-4232-9d02-1706db756499",
   "metadata": {},
   "source": [
    "18. Quadratic Equation Solver: Write a Python program that takes the coefficients (a, b, c) of a quadratic equation as input and calculates and prints the real roots (if they exist) or a message indicating the complex roots"
   ]
  },
  {
   "cell_type": "code",
   "execution_count": 9,
   "id": "8129dd3b-d25d-478b-8a9b-872f207f0526",
   "metadata": {},
   "outputs": [
    {
     "name": "stdin",
     "output_type": "stream",
     "text": [
      "Enter first coefficient 1\n",
      "Enter second coefficient 10\n",
      "Enter third coefficient -24\n"
     ]
    },
    {
     "name": "stdout",
     "output_type": "stream",
     "text": [
      "Roots for this quadratic equation are : 2.0 and -12.0\n"
     ]
    }
   ],
   "source": [
    "import math\n",
    "def roots(a, b, c):\n",
    "    result1 = (-b + math.sqrt(b*b - 4 * a * c)) / 2 * a\n",
    "    result2 = (-b - math.sqrt(b*b - 4 *a * c)) / 2 * a\n",
    "    print(f\"Roots for this quadratic equation are : {result1} and {result2}\")\n",
    "a = int(input(\"Enter first coefficient\"))\n",
    "b = int(input(\"Enter second coefficient\"))\n",
    "c = int(input(\"Enter third coefficient\"))\n",
    "roots(a, b, c)"
   ]
  },
  {
   "cell_type": "markdown",
   "id": "583eb72a-7456-4f88-aee2-164ed230ec18",
   "metadata": {},
   "source": [
    "19. Number Ranges: Write a Python program that takes an integer as input and prints whether the number falls within the ranges: 0-50, 51-100, 101-150, or above 150."
   ]
  },
  {
   "cell_type": "code",
   "execution_count": 16,
   "id": "76b4ddaf-00c8-4a7c-96e5-de86964ce42b",
   "metadata": {},
   "outputs": [
    {
     "name": "stdin",
     "output_type": "stream",
     "text": [
      "Enter a positive integer 54\n"
     ]
    },
    {
     "name": "stdout",
     "output_type": "stream",
     "text": [
      "51-100\n"
     ]
    }
   ],
   "source": [
    "def number_range(n):\n",
    "    if n < 0:\n",
    "        print(\"Enter a positive integer\")\n",
    "    elif 0 <= n <= 50:\n",
    "        print(\"0-50\")\n",
    "    elif 51 <= n <= 100:\n",
    "        print(\"51-100\")\n",
    "    elif 101 <= n <= 150:\n",
    "        print(\"101-150\")\n",
    "    else:\n",
    "        print(\"above 150\")\n",
    "n = int(input(\"Enter a positive integer\"))\n",
    "number_range(n)"
   ]
  },
  {
   "cell_type": "markdown",
   "id": "1a32c98e-3c81-4ed5-b05c-9afcda5c53c6",
   "metadata": {},
   "source": [
    "20. Sum of N Numbers: Write a Python program using a for loop to calculate the sum of the first N natural numbers, where N is taken as input from the user."
   ]
  },
  {
   "cell_type": "code",
   "execution_count": 19,
   "id": "213bc750-47df-42f8-baeb-e87c70330277",
   "metadata": {},
   "outputs": [
    {
     "name": "stdin",
     "output_type": "stream",
     "text": [
      "Enter a natural number:  5\n"
     ]
    },
    {
     "name": "stdout",
     "output_type": "stream",
     "text": [
      "15\n"
     ]
    }
   ],
   "source": [
    "def sum(n):\n",
    "    if n > 0:\n",
    "        sum = 0\n",
    "        for i in range(1, n+1):\n",
    "            sum += i\n",
    "        return sum\n",
    "n = int(input(\"Enter a natural number: \"))\n",
    "print(sum(n))"
   ]
  },
  {
   "cell_type": "markdown",
   "id": "37a263fd-622d-48da-95f1-954ddba88eea",
   "metadata": {},
   "source": [
    "21. Factorial Calculator: Write a Python program using a while loop to calculate the factorial of a given number N"
   ]
  },
  {
   "cell_type": "code",
   "execution_count": 29,
   "id": "c360b540-2260-40f0-a3b6-8fb0fb5f2cfe",
   "metadata": {},
   "outputs": [
    {
     "name": "stdin",
     "output_type": "stream",
     "text": [
      "Enter a positive integer 5\n"
     ]
    },
    {
     "name": "stdout",
     "output_type": "stream",
     "text": [
      "Factorial of 5 is: 120\n"
     ]
    }
   ],
   "source": [
    "def factorial(n):\n",
    "    if n >= 0:\n",
    "        if n == 0 or n == 1:\n",
    "            return 1\n",
    "        mul = 1\n",
    "        i = n\n",
    "        while i >= 1:\n",
    "            mul *= i\n",
    "            i -= 1\n",
    "        return mul\n",
    "num = int(input(\"Enter a positive integer\"))\n",
    "print(f\"Factorial of {num} is: {factorial(num)}\")"
   ]
  },
  {
   "cell_type": "markdown",
   "id": "3dfb2936-d8ba-44dd-9cb1-85d241fd6696",
   "metadata": {},
   "source": [
    "22. Table of a Number: Write a Python program using a for loop to print the multiplication table of a given number N."
   ]
  },
  {
   "cell_type": "code",
   "execution_count": 30,
   "id": "3b55169b-59d3-4363-affa-1a067a76aa43",
   "metadata": {},
   "outputs": [
    {
     "name": "stdin",
     "output_type": "stream",
     "text": [
      "Enter a valid input: 8\n"
     ]
    },
    {
     "name": "stdout",
     "output_type": "stream",
     "text": [
      "8 * 1 = 8\n",
      "8 * 2 = 16\n",
      "8 * 3 = 24\n",
      "8 * 4 = 32\n",
      "8 * 5 = 40\n",
      "8 * 6 = 48\n",
      "8 * 7 = 56\n",
      "8 * 8 = 64\n",
      "8 * 9 = 72\n",
      "8 * 10 = 80\n"
     ]
    }
   ],
   "source": [
    "def multiplicationTable(n):\n",
    "    for i in range(1, 11):\n",
    "        print(f\"{n} * {i} = {n*i}\")\n",
    "num = int(input(\"Enter a valid input:\"))\n",
    "multiplicationTable(num)"
   ]
  },
  {
   "cell_type": "markdown",
   "id": "73e03331-bebe-4f02-a3bd-4169868223f9",
   "metadata": {},
   "source": [
    "23. Count Digits in a Number: Write a Python program using a while loop to count the number of digits in a given integer N"
   ]
  },
  {
   "cell_type": "code",
   "execution_count": 5,
   "id": "3a00d507-23c1-4adf-9e12-df4bc4e7c6bf",
   "metadata": {},
   "outputs": [
    {
     "name": "stdin",
     "output_type": "stream",
     "text": [
      "Enter a valid integer 53423\n"
     ]
    },
    {
     "name": "stdout",
     "output_type": "stream",
     "text": [
      "5\n"
     ]
    }
   ],
   "source": [
    "def CountDigits(n):\n",
    "    count = 0\n",
    "    while n > 0:\n",
    "        count += 1\n",
    "        n = n // 10\n",
    "    return count\n",
    "num = int(input(\"Enter a valid integer\"))\n",
    "print(CountDigits(num))"
   ]
  },
  {
   "cell_type": "markdown",
   "id": "2fc16eba-8fa4-4899-adc8-ecde704f681b",
   "metadata": {},
   "source": [
    "24. Fibonacci Sequence: Write a Python program using a for loop to generate the Fibonacci sequence up to a given limit N."
   ]
  },
  {
   "cell_type": "markdown",
   "id": "e90bb243-d52d-40d5-bfe4-6ce6a7afff4f",
   "metadata": {},
   "source": [
    "def fibonacci(n):\n",
    "    fib1 = 0\n",
    "    fib2 = 1\n",
    "    for i in range(1, n+1):\n",
    "        print(fib1, end=\" \")\n",
    "        temp = fib1 + fib2\n",
    "        fib1 = fib2\n",
    "        fib2 = temp\n",
    "        \n",
    "num = int(input(\"Enter a positive integer\"))\n",
    "fibonacci(num)"
   ]
  },
  {
   "cell_type": "markdown",
   "id": "6a067f0d-b000-47d5-b4ea-dd3217e518ba",
   "metadata": {},
   "source": [
    "25. Sum of Even Numbers: Write a Python program using a while loop to calculate the sum of all even numbers between 1 and N, where N is taken as input from the user."
   ]
  },
  {
   "cell_type": "code",
   "execution_count": 16,
   "id": "cd2d9461-452a-425d-821c-c1094a7a7fb3",
   "metadata": {},
   "outputs": [
    {
     "name": "stdin",
     "output_type": "stream",
     "text": [
      "Enter a positive integer 8\n"
     ]
    },
    {
     "name": "stdout",
     "output_type": "stream",
     "text": [
      "Sum of even numbers: 20\n"
     ]
    }
   ],
   "source": [
    "def sum(n):\n",
    "    sum = 0\n",
    "    while n > 0:\n",
    "        if n % 2 == 0:\n",
    "            sum += n\n",
    "        n -= 1\n",
    "    return sum\n",
    "num = int(input(\"Enter a positive integer\"))\n",
    "print(f\"Sum of even numbers: {sum(num)}\")"
   ]
  },
  {
   "cell_type": "markdown",
   "id": "6852b3cc-904b-4a9e-9ebd-0ac383fc9791",
   "metadata": {},
   "source": [
    "26. Print Patterns: Write a Python program using nested for loops to print various patterns, such as a right-angled triangle, an inverted right-angled triangle, and so on."
   ]
  },
  {
   "cell_type": "code",
   "execution_count": 35,
   "id": "d303b9e3-4c9b-42fb-ab19-822e8425ebf8",
   "metadata": {},
   "outputs": [
    {
     "name": "stdin",
     "output_type": "stream",
     "text": [
      "Enter a valid integer 5\n"
     ]
    },
    {
     "name": "stdout",
     "output_type": "stream",
     "text": [
      "Right angled triangle:\n",
      "* \n",
      "* * \n",
      "* * * \n",
      "* * * * \n",
      "* * * * * \n",
      "Inverted right angled triangle:\n",
      "* * * * * \n",
      "* * * * \n",
      "* * * \n",
      "* * \n",
      "* \n"
     ]
    }
   ],
   "source": [
    "def right_angled_triangle(n):\n",
    "    for i in range(1, n+1):\n",
    "        for j in range(i):\n",
    "            print(\"*\", end=\" \")\n",
    "        print()\n",
    "def inverted_right_angled_triangle(n):\n",
    "    for i in range(n, 0, -1):\n",
    "        for j in range(i):\n",
    "            print(\"*\", end=\" \")\n",
    "        print()\n",
    "num = int(input(\"Enter a valid integer\"))\n",
    "print(\"Right angled triangle:\")\n",
    "right_angled_triangle(num)\n",
    "print(\"Inverted right angled triangle:\")\n",
    "inverted_right_angled_triangle(num)"
   ]
  },
  {
   "cell_type": "markdown",
   "id": "014c15d4-7680-4e35-ab4f-11857d22bc84",
   "metadata": {},
   "source": [
    "27. Prime Number Checker: Write a Python program using a while loop to check if a given number N is prime or not"
   ]
  },
  {
   "cell_type": "code",
   "execution_count": 11,
   "id": "9713078a-6c96-4b9c-867f-0ab4569f6bdb",
   "metadata": {},
   "outputs": [
    {
     "name": "stdin",
     "output_type": "stream",
     "text": [
      "Enter a integer number 79\n"
     ]
    },
    {
     "name": "stdout",
     "output_type": "stream",
     "text": [
      "79 is a prime number\n"
     ]
    }
   ],
   "source": [
    "def prime_num(n):\n",
    "    flag = False\n",
    "    i = 2\n",
    "    while i <= n/2:\n",
    "        if n % i == 0:\n",
    "            flag = True\n",
    "        i += 1\n",
    "    return flag\n",
    "num = int(input(\"Enter a integer number\"))\n",
    "if prime_num(num):\n",
    "    print(f\"{num} is not a prime number\")\n",
    "else:\n",
    "    print(f\"{num} is a prime number\")"
   ]
  },
  {
   "cell_type": "markdown",
   "id": "e6b3dd96-e88f-46e3-98df-7d75fa1df691",
   "metadata": {},
   "source": [
    "28. List Manipulation: Given a list of integers, write a Python program using a for loop to find the sum, average, maximum, and minimum values in the list."
   ]
  },
  {
   "cell_type": "code",
   "execution_count": 16,
   "id": "ee07c52a-5d94-4374-ade4-a788abde387d",
   "metadata": {},
   "outputs": [
    {
     "name": "stdout",
     "output_type": "stream",
     "text": [
      "Sum of list is : 69\n",
      "Average of list is : 11.5\n",
      "Minimum value of list is : 4\n",
      "Maximum value of list is : 20\n"
     ]
    }
   ],
   "source": [
    "def calculation(list):\n",
    "    sum = 0\n",
    "    count = 0\n",
    "    for i in list:\n",
    "        sum += i\n",
    "        count += 1\n",
    "    avg = sum/count\n",
    "    min_val = list[0]\n",
    "    for i in list:\n",
    "        if i < min_val:\n",
    "            min_val = i\n",
    "    max_val = list[0]\n",
    "    for i in list:\n",
    "        if i > max_val:\n",
    "            max_val = i\n",
    "    print(f\"Sum of list is : {sum}\")\n",
    "    print(f\"Average of list is : {avg}\")\n",
    "    print(f\"Minimum value of list is : {min_val}\")\n",
    "    print(f\"Maximum value of list is : {max_val}\")\n",
    "list = [12, 15, 20, 10, 4, 8]\n",
    "calculation(list)"
   ]
  },
  {
   "cell_type": "markdown",
   "id": "c721a988-4535-44fd-a1c1-bd485dc98406",
   "metadata": {},
   "source": [
    "29. Reverse String: Write a Python program using a while loop to reverse a given string."
   ]
  },
  {
   "cell_type": "code",
   "execution_count": 24,
   "id": "7fadf3b1-a378-42d5-9aae-3969778c7e27",
   "metadata": {},
   "outputs": [
    {
     "name": "stdout",
     "output_type": "stream",
     "text": [
      "Given String is Hello\n",
      "Reversed String is olleH\n"
     ]
    }
   ],
   "source": [
    "def reverse(s):\n",
    "    reversed_s = \"\"\n",
    "    index = len(s) - 1\n",
    "    while index >= 0:\n",
    "        #reversed_s = \"\".join([reversed_s, s[index]])\n",
    "        index -= 1\n",
    "    return reversed_s\n",
    "s = \"Hello\"\n",
    "print(f\"Given String is {s}\")\n",
    "print(f\"Reversed String is {reverse(s)}\")"
   ]
  },
  {
   "cell_type": "markdown",
   "id": "48efdc00-2630-47bf-bd78-a7300c8ec0ae",
   "metadata": {},
   "source": [
    "30. Multiplication Table: Write a Python program using nested loops to print the multiplication table from 1 to 10."
   ]
  },
  {
   "cell_type": "code",
   "execution_count": 2,
   "id": "b3d23be6-029a-400b-961b-6e9bf28c4e00",
   "metadata": {},
   "outputs": [
    {
     "name": "stdout",
     "output_type": "stream",
     "text": [
      "1 * 1 = 1\n",
      "1 * 2 = 2\n",
      "1 * 3 = 3\n",
      "1 * 4 = 4\n",
      "1 * 5 = 5\n",
      "1 * 6 = 6\n",
      "1 * 7 = 7\n",
      "1 * 8 = 8\n",
      "1 * 9 = 9\n",
      "1 * 10 = 10\n",
      "\n",
      "2 * 1 = 2\n",
      "2 * 2 = 4\n",
      "2 * 3 = 6\n",
      "2 * 4 = 8\n",
      "2 * 5 = 10\n",
      "2 * 6 = 12\n",
      "2 * 7 = 14\n",
      "2 * 8 = 16\n",
      "2 * 9 = 18\n",
      "2 * 10 = 20\n",
      "\n",
      "3 * 1 = 3\n",
      "3 * 2 = 6\n",
      "3 * 3 = 9\n",
      "3 * 4 = 12\n",
      "3 * 5 = 15\n",
      "3 * 6 = 18\n",
      "3 * 7 = 21\n",
      "3 * 8 = 24\n",
      "3 * 9 = 27\n",
      "3 * 10 = 30\n",
      "\n",
      "4 * 1 = 4\n",
      "4 * 2 = 8\n",
      "4 * 3 = 12\n",
      "4 * 4 = 16\n",
      "4 * 5 = 20\n",
      "4 * 6 = 24\n",
      "4 * 7 = 28\n",
      "4 * 8 = 32\n",
      "4 * 9 = 36\n",
      "4 * 10 = 40\n",
      "\n",
      "5 * 1 = 5\n",
      "5 * 2 = 10\n",
      "5 * 3 = 15\n",
      "5 * 4 = 20\n",
      "5 * 5 = 25\n",
      "5 * 6 = 30\n",
      "5 * 7 = 35\n",
      "5 * 8 = 40\n",
      "5 * 9 = 45\n",
      "5 * 10 = 50\n",
      "\n",
      "6 * 1 = 6\n",
      "6 * 2 = 12\n",
      "6 * 3 = 18\n",
      "6 * 4 = 24\n",
      "6 * 5 = 30\n",
      "6 * 6 = 36\n",
      "6 * 7 = 42\n",
      "6 * 8 = 48\n",
      "6 * 9 = 54\n",
      "6 * 10 = 60\n",
      "\n",
      "7 * 1 = 7\n",
      "7 * 2 = 14\n",
      "7 * 3 = 21\n",
      "7 * 4 = 28\n",
      "7 * 5 = 35\n",
      "7 * 6 = 42\n",
      "7 * 7 = 49\n",
      "7 * 8 = 56\n",
      "7 * 9 = 63\n",
      "7 * 10 = 70\n",
      "\n",
      "8 * 1 = 8\n",
      "8 * 2 = 16\n",
      "8 * 3 = 24\n",
      "8 * 4 = 32\n",
      "8 * 5 = 40\n",
      "8 * 6 = 48\n",
      "8 * 7 = 56\n",
      "8 * 8 = 64\n",
      "8 * 9 = 72\n",
      "8 * 10 = 80\n",
      "\n",
      "9 * 1 = 9\n",
      "9 * 2 = 18\n",
      "9 * 3 = 27\n",
      "9 * 4 = 36\n",
      "9 * 5 = 45\n",
      "9 * 6 = 54\n",
      "9 * 7 = 63\n",
      "9 * 8 = 72\n",
      "9 * 9 = 81\n",
      "9 * 10 = 90\n",
      "\n",
      "10 * 1 = 10\n",
      "10 * 2 = 20\n",
      "10 * 3 = 30\n",
      "10 * 4 = 40\n",
      "10 * 5 = 50\n",
      "10 * 6 = 60\n",
      "10 * 7 = 70\n",
      "10 * 8 = 80\n",
      "10 * 9 = 90\n",
      "10 * 10 = 100\n",
      "\n"
     ]
    }
   ],
   "source": [
    "def multiplicationTable():\n",
    "    for i in range(1, 11):\n",
    "        for j in range(1, 11):\n",
    "            print(f\"{i} * {j} = {i * j}\")\n",
    "        print()\n",
    "multiplicationTable()\n",
    "                "
   ]
  },
  {
   "cell_type": "markdown",
   "id": "86d613c6-b434-470a-8eee-9b63fa2a75fa",
   "metadata": {},
   "source": [
    "31. Print Patterns: Write a Python program using nested loops to print the following pattern:\r\n",
    "*\r\n",
    "**\r\n",
    "***\r\n",
    "****\r\n",
    "*****"
   ]
  },
  {
   "cell_type": "code",
   "execution_count": 4,
   "id": "27480f68-a879-4369-bad8-cddf57b02272",
   "metadata": {},
   "outputs": [
    {
     "name": "stdout",
     "output_type": "stream",
     "text": [
      "\n",
      "* \n",
      "* * \n",
      "* * * \n",
      "* * * * \n",
      "* * * * * \n"
     ]
    }
   ],
   "source": [
    "def pattern(n):\n",
    "    for i in range(n+1):\n",
    "        for j in range(i):\n",
    "            print(\"*\", end=\" \")\n",
    "        print()\n",
    "pattern(5)"
   ]
  },
  {
   "cell_type": "markdown",
   "id": "d6656088-8ce5-41ef-ba8f-420c6807e493",
   "metadata": {},
   "source": [
    "32. Matrix Multiplication: Write a Python program using nested loops to multiply two matrices"
   ]
  },
  {
   "cell_type": "code",
   "execution_count": 10,
   "id": "a4c64d09-9b8e-4146-889d-e7dbdf1debe0",
   "metadata": {
    "scrolled": true
   },
   "outputs": [
    {
     "name": "stdout",
     "output_type": "stream",
     "text": [
      "[58, 64]\n",
      "[139, 154]\n"
     ]
    }
   ],
   "source": [
    "def matrix_multiplication(A, B):\n",
    "    rows_A = len(A)\n",
    "    cols_A = len(A[0])\n",
    "    rows_B = len(B)\n",
    "    cols_B = len(B[0])\n",
    "\n",
    "    if cols_A != rows_B:\n",
    "        raise ValueError(\"Number of columns of A Matrix must be equaled with Number of rows of B Matrix\") \n",
    "\n",
    "    result = [[0 for _ in range(cols_B)]for _ in range(rows_A)]\n",
    "\n",
    "    #Perform Matrix multiplication\n",
    "    for i in range(rows_A):\n",
    "        for j in range(cols_B):\n",
    "            for k in range(cols_A):\n",
    "                result[i][j] += A[i][k] * B[k][j]\n",
    "    return result\n",
    "\n",
    "# Example usage\n",
    "A = [\n",
    "    [1, 2, 3],\n",
    "    [4, 5, 6]\n",
    "]\n",
    "\n",
    "B = [\n",
    "    [7, 8],\n",
    "    [9, 10],\n",
    "    [11, 12]\n",
    "]\n",
    "\n",
    "result = matrix_multiplication(A, B)\n",
    "for row in result:\n",
    "    print(row)"
   ]
  },
  {
   "cell_type": "markdown",
   "id": "a3512add-240e-4a73-bd4d-ee409d16df2a",
   "metadata": {},
   "source": [
    "33. Chessboard Pattern: Write a Python program using nested loops to print a chessboard pattern (alternating “X” and “O” characters) of size 8×8.34. Number Pyramid: Write a Python program using nested loops to print\r\n",
    "a number pyramid like the following: 1 22 333 4444 55555"
   ]
  },
  {
   "cell_type": "code",
   "execution_count": 9,
   "id": "e8c62ace-d643-4144-9d9d-291bd94bf76a",
   "metadata": {},
   "outputs": [
    {
     "name": "stdout",
     "output_type": "stream",
     "text": [
      "X O X O X O X O \n",
      "X O X O X O X O \n",
      "X O X O X O X O \n",
      "X O X O X O X O \n",
      "X O X O X O X O \n",
      "X O X O X O X O \n",
      "X O X O X O X O \n",
      "X O X O X O X O \n"
     ]
    }
   ],
   "source": [
    "def print_chessboard():\n",
    "    size = 8\n",
    "    for i in range(size):\n",
    "        for j in range(size):\n",
    "            if  j % 2 == 0:\n",
    "                print(\"X\", end=\" \")\n",
    "            else:\n",
    "                print(\"O\", end=\" \")\n",
    "        print()\n",
    "print_chessboard()"
   ]
  },
  {
   "cell_type": "markdown",
   "id": "289d3d86-123d-4fa5-8fa6-7e896548bda9",
   "metadata": {},
   "source": [
    "34. List Sum: Write a Python program to find the sum of all elements in a given list of integers."
   ]
  },
  {
   "cell_type": "code",
   "execution_count": 10,
   "id": "6dbef9b3-3851-4635-ad5f-6f4e0172be12",
   "metadata": {},
   "outputs": [
    {
     "name": "stdout",
     "output_type": "stream",
     "text": [
      "61\n"
     ]
    }
   ],
   "source": [
    "def sum(list):\n",
    "    sum = 0\n",
    "    for i in list:\n",
    "        sum += i\n",
    "    return sum\n",
    "list = [12, 23, 10, 9, 7]\n",
    "print(sum(list))"
   ]
  },
  {
   "cell_type": "markdown",
   "id": "71cc58f1-fd94-4232-800d-b4be3bc9fd7d",
   "metadata": {},
   "source": [
    "35. List Average: Write a Python program to calculate the average of all elements in a given list of integers."
   ]
  },
  {
   "cell_type": "code",
   "execution_count": 12,
   "id": "7068d2a1-92c8-481a-b1b1-5995b9702c6e",
   "metadata": {},
   "outputs": [
    {
     "name": "stdout",
     "output_type": "stream",
     "text": [
      "12.2\n"
     ]
    }
   ],
   "source": [
    "def avg(list):\n",
    "    sum = 0\n",
    "    count = 0\n",
    "    for i in list:\n",
    "        sum += i\n",
    "        count += 1\n",
    "    return sum/count\n",
    "list = [12, 23, 10, 9, 7]\n",
    "print(avg(list))"
   ]
  },
  {
   "cell_type": "markdown",
   "id": "1a562389-cbca-40d8-8b9a-079b340895d5",
   "metadata": {},
   "source": [
    "36. List Max and Min: Write a Python program to find the maximum and minimum values in a given list of integers."
   ]
  },
  {
   "cell_type": "code",
   "execution_count": 14,
   "id": "1ec5ac89-2cc6-4562-a48e-05b739603947",
   "metadata": {},
   "outputs": [
    {
     "name": "stdout",
     "output_type": "stream",
     "text": [
      "7\n"
     ]
    }
   ],
   "source": [
    "def minimum(list):\n",
    "    min_val = list[0]\n",
    "    for i in list:\n",
    "        if min_val > i:\n",
    "            min_val = i\n",
    "    return min_val\n",
    "list = [12, 23, 10, 9, 7]\n",
    "print(minimum(list))"
   ]
  },
  {
   "cell_type": "markdown",
   "id": "1a39ac3f-1bca-459d-983c-1b4212ff169f",
   "metadata": {},
   "source": [
    "37. List Sorting: Write a Python program to sort a list of integers in ascending order."
   ]
  },
  {
   "cell_type": "code",
   "execution_count": 16,
   "id": "7a6e3257-11cb-48fb-be38-4a88808d57ca",
   "metadata": {},
   "outputs": [
    {
     "name": "stdout",
     "output_type": "stream",
     "text": [
      "23\n"
     ]
    }
   ],
   "source": [
    "def maximum(list):\n",
    "    max_val = list[0]\n",
    "    for i in list:\n",
    "        if max_val < i:\n",
    "            max_val = i\n",
    "    return max_val\n",
    "list = [12, 23, 10, 9, 7]\n",
    "print(maximum(list))"
   ]
  },
  {
   "cell_type": "markdown",
   "id": "5aefc5d0-fe81-459e-90b8-14bf9b02aa6e",
   "metadata": {},
   "source": [
    "38. List Filtering: Given a list of integers, write a Python program to create a new list that contains only the even numbers from the original list."
   ]
  },
  {
   "cell_type": "code",
   "execution_count": 17,
   "id": "3e24173c-4241-4103-aef2-56ee4931180a",
   "metadata": {},
   "outputs": [
    {
     "name": "stdout",
     "output_type": "stream",
     "text": [
      "[12, 10]\n"
     ]
    }
   ],
   "source": [
    "def evenList(list):\n",
    "    even = []\n",
    "    for i in list:\n",
    "        if i % 2 == 0:\n",
    "            even.append(i)\n",
    "    return even\n",
    "list = [12, 23, 10, 9, 7]\n",
    "print(evenList(list))"
   ]
  },
  {
   "cell_type": "markdown",
   "id": "d077e9d7-e428-4fe8-8f5c-b068b5cced45",
   "metadata": {},
   "source": [
    "39. List Reversal: Write a Python program to reverse a given list without using any built-in functions."
   ]
  },
  {
   "cell_type": "code",
   "execution_count": 26,
   "id": "35f5f7fb-5dc1-4c0a-80b0-c2b69660d472",
   "metadata": {},
   "outputs": [
    {
     "name": "stdout",
     "output_type": "stream",
     "text": [
      "[7, 9, 10, 23, 12]\n"
     ]
    }
   ],
   "source": [
    "def listReversal(list):\n",
    "    reverse = []\n",
    "    length = len(list)\n",
    "    for i in range(length-1, -1, -1):\n",
    "        reverse.append(list[i])\n",
    "    return reverse\n",
    "list = [12, 23, 10, 9, 7]\n",
    "print(listReversal(list))"
   ]
  },
  {
   "cell_type": "markdown",
   "id": "1aa2e613-1e6b-48a5-8bc8-bc355d8ef361",
   "metadata": {},
   "source": [
    "40. List Manipulation: Given two lists of integers, write a Python program to create a new list that contains elements common to both lists."
   ]
  },
  {
   "cell_type": "code",
   "execution_count": 29,
   "id": "ab7fe845-2f48-4290-8530-61af240c468f",
   "metadata": {},
   "outputs": [
    {
     "name": "stdout",
     "output_type": "stream",
     "text": [
      "[23, 9, 7]\n"
     ]
    }
   ],
   "source": [
    "def commonElement(list1, list2):\n",
    "    element = []\n",
    "    length1 = len(list1)\n",
    "    length2 = len(list2)\n",
    "    for i in range(0, length1):\n",
    "        for j in range(0, length2):\n",
    "            if list1[i] == list2[j]:\n",
    "                element.append(list1[i])\n",
    "    return element\n",
    "list1 = [12, 23, 10, 9, 7]\n",
    "list2 = [14, 23, 17, 9, 7]\n",
    "print(commonElement(list1, list2))"
   ]
  },
  {
   "cell_type": "markdown",
   "id": "0bd60048-a1ff-48bb-aade-f099353cf41a",
   "metadata": {},
   "source": [
    "41. List Element Count: Write a Python program to count the occurrences of a specific element in a given list"
   ]
  },
  {
   "cell_type": "code",
   "execution_count": 31,
   "id": "34286e12-c706-4b70-b6f9-4f26acda030a",
   "metadata": {},
   "outputs": [
    {
     "name": "stdout",
     "output_type": "stream",
     "text": [
      "3\n"
     ]
    }
   ],
   "source": [
    "def elementCount(list, element):\n",
    "    count = 0\n",
    "    for i in list:\n",
    "        if element == i:\n",
    "                count += 1\n",
    "    return count\n",
    "list = [12, 23, 10, 9, 7, 23, 15, 23]\n",
    "element = 23\n",
    "print(elementCount(list, element))"
   ]
  },
  {
   "cell_type": "markdown",
   "id": "5a114e6d-8f1a-4341-aa07-3bba96145415",
   "metadata": {},
   "source": [
    "42. List Duplicates Removal: Write a Python program to remove duplicates from a given list while preserving the order of the elements."
   ]
  },
  {
   "cell_type": "code",
   "execution_count": 32,
   "id": "c6e11882-4bf2-46ff-a5d1-c14e4de6f89d",
   "metadata": {},
   "outputs": [
    {
     "name": "stdout",
     "output_type": "stream",
     "text": [
      "[12, 23, 10, 9, 7, 15]\n"
     ]
    }
   ],
   "source": [
    "def removeDuplicate(list):\n",
    "    unique = []\n",
    "    for i in list:\n",
    "        if i not in unique:\n",
    "            unique.append(i)\n",
    "    return unique\n",
    "list = [12, 23, 10, 9, 7, 23, 15, 23]\n",
    "print(removeDuplicate(list))"
   ]
  },
  {
   "cell_type": "markdown",
   "id": "521ae0c0-0630-4897-aac5-3a38ef2bb426",
   "metadata": {},
   "source": [
    "43. List Comprehension: Given a list of integers, write a Python program to create a new list that contains the squares of the elements using list comprehension."
   ]
  },
  {
   "cell_type": "code",
   "execution_count": 34,
   "id": "f565e36e-a998-45f8-a06d-feaea606446e",
   "metadata": {},
   "outputs": [
    {
     "name": "stdout",
     "output_type": "stream",
     "text": [
      "[144, 529, 100, 81, 49, 529, 225, 529]\n"
     ]
    }
   ],
   "source": [
    "def squareList(list):\n",
    "    sqList = [i * i for i in list]\n",
    "    return sqList\n",
    "list = [12, 23, 10, 9, 7, 23, 15, 23]\n",
    "print(squareList(list))"
   ]
  },
  {
   "cell_type": "markdown",
   "id": "a5f797c8-b45e-403a-9f4f-1e5aecc11776",
   "metadata": {},
   "source": [
    "44. Matrix Addition: Write a Python program to add two matrices represented as nested lists."
   ]
  },
  {
   "cell_type": "code",
   "execution_count": 13,
   "id": "d3697eb9-1d52-46ac-afe1-3f78e409eb39",
   "metadata": {},
   "outputs": [
    {
     "name": "stdout",
     "output_type": "stream",
     "text": [
      "[8, 10, 12]\n",
      "[14, 16, 18]\n"
     ]
    }
   ],
   "source": [
    "def matrix_addition(A, B):\n",
    "    if len(A) != len(B) or len(A[0]) != len(B[0]):\n",
    "        raise ValueError(\"These two matrices must have same dimension or rows and column\")\n",
    "\n",
    "    rows = len(A)\n",
    "    cols = len(A[0])\n",
    "\n",
    "    result = [[0 for _ in range(cols)]for _ in range(rows)]\n",
    "\n",
    "    for i in range(rows):\n",
    "        for j in range(cols):\n",
    "            result[i][j] = A[i][j] + B[i][j]\n",
    "    return result\n",
    "    \n",
    "B = [\n",
    "    [1, 2, 3],\n",
    "    [4, 5, 6]\n",
    "]\n",
    "\n",
    "A = [\n",
    "    [7, 8, 9],\n",
    "    [10, 11, 12]\n",
    "]\n",
    "\n",
    "C = matrix_addition(A, B)\n",
    "#print(C)\n",
    "for row in C:\n",
    "    print(row)"
   ]
  },
  {
   "cell_type": "markdown",
   "id": "c7a6c81c-5af7-409b-80a7-4ffa75804154",
   "metadata": {},
   "source": [
    "45. Flatten Nested List: Write a Python program to flatten a given nested list and convert it into a single-dimensional list."
   ]
  },
  {
   "cell_type": "code",
   "execution_count": 4,
   "id": "9c09bf3c-d5b2-4ba5-9823-48312aa43523",
   "metadata": {},
   "outputs": [
    {
     "name": "stdout",
     "output_type": "stream",
     "text": [
      "[1, 2, 3, 4, 5, 6, 7, 8]\n"
     ]
    }
   ],
   "source": [
    "def flatenList(nested_list):\n",
    "    oneDList = []\n",
    "    for item in nested_list:\n",
    "        if isinstance(item, list):\n",
    "            oneDList.extend(flatenList(item))\n",
    "        else:\n",
    "            oneDList.append(item)\n",
    "    return oneDList\n",
    "nested_list = [1, [2, [3, 4], 5], [6, 7], 8]\n",
    "print(flatenList(nested_list))"
   ]
  },
  {
   "cell_type": "code",
   "execution_count": null,
   "id": "79e346cb-bcf0-4c29-99fd-9a02018ed8f3",
   "metadata": {},
   "outputs": [],
   "source": []
  }
 ],
 "metadata": {
  "kernelspec": {
   "display_name": "Python 3 (ipykernel)",
   "language": "python",
   "name": "python3"
  },
  "language_info": {
   "codemirror_mode": {
    "name": "ipython",
    "version": 3
   },
   "file_extension": ".py",
   "mimetype": "text/x-python",
   "name": "python",
   "nbconvert_exporter": "python",
   "pygments_lexer": "ipython3",
   "version": "3.11.7"
  }
 },
 "nbformat": 4,
 "nbformat_minor": 5
}
