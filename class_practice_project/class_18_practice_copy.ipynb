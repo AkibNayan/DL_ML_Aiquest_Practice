{
 "cells": [
  {
   "cell_type": "markdown",
   "id": "8b9b6d07-00d2-45da-b31d-2f8e46c5aa6f",
   "metadata": {},
   "source": [
    "# Fake News Classification Using Machine Learning Classifier"
   ]
  },
  {
   "cell_type": "markdown",
   "id": "a5ed00ec-3356-4cb7-989f-e4dca97daa20",
   "metadata": {},
   "source": [
    "### Step 1- Import necessary Libraries"
   ]
  },
  {
   "cell_type": "code",
   "execution_count": 1,
   "id": "4170e2d0-d8a1-4721-9db0-5037e71818ed",
   "metadata": {},
   "outputs": [],
   "source": [
    "import numpy as np\n",
    "import pandas as pd\n",
    "import seaborn as sns\n",
    "import matplotlib.pyplot as plt\n",
    "import plotly.express as px\n",
    "import string\n",
    "from sklearn.model_selection import train_test_split\n",
    "from sklearn.feature_extraction.text import TfidfVectorizer\n",
    "from sklearn.naive_bayes import MultinomialNB, BernoulliNB\n",
    "from sklearn.linear_model import LogisticRegression\n"
   ]
  }
 ],
 "metadata": {
  "kernelspec": {
   "display_name": "Python 3 (ipykernel)",
   "language": "python",
   "name": "python3"
  },
  "language_info": {
   "codemirror_mode": {
    "name": "ipython",
    "version": 3
   },
   "file_extension": ".py",
   "mimetype": "text/x-python",
   "name": "python",
   "nbconvert_exporter": "python",
   "pygments_lexer": "ipython3",
   "version": "3.11.7"
  }
 },
 "nbformat": 4,
 "nbformat_minor": 5
}
