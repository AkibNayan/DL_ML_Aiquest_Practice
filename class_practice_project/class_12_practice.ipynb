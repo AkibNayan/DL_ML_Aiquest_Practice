{
 "cells": [
  {
   "cell_type": "markdown",
   "id": "1ee08697-c9e9-4695-b16e-7647a1189cb4",
   "metadata": {},
   "source": [
    "<h1>Feature Transformation Technique Apply</h1>"
   ]
  },
  {
   "cell_type": "code",
   "execution_count": null,
   "id": "ff70cad5-2810-4a18-9816-3cc5f7a669e6",
   "metadata": {},
   "outputs": [],
   "source": [
    "li = [100, 200, 150, 300, 180]"
   ]
  },
  {
   "cell_type": "code",
   "execution_count": 2,
   "id": "d1dda36e-e6ec-4ab5-a08c-7312bff2aeda",
   "metadata": {},
   "outputs": [
    {
     "data": {
      "text/plain": [
       "[100, 200, 150, 300, 180]"
      ]
     },
     "execution_count": 2,
     "metadata": {},
     "output_type": "execute_result"
    }
   ],
   "source": [
    "li"
   ]
  },
  {
   "cell_type": "code",
   "execution_count": 3,
   "id": "eeddca39-8055-4d46-9dc1-f039be997887",
   "metadata": {},
   "outputs": [
    {
     "data": {
      "text/html": [
       "<div>\n",
       "<style scoped>\n",
       "    .dataframe tbody tr th:only-of-type {\n",
       "        vertical-align: middle;\n",
       "    }\n",
       "\n",
       "    .dataframe tbody tr th {\n",
       "        vertical-align: top;\n",
       "    }\n",
       "\n",
       "    .dataframe thead th {\n",
       "        text-align: right;\n",
       "    }\n",
       "</style>\n",
       "<table border=\"1\" class=\"dataframe\">\n",
       "  <thead>\n",
       "    <tr style=\"text-align: right;\">\n",
       "      <th></th>\n",
       "      <th>cost</th>\n",
       "    </tr>\n",
       "  </thead>\n",
       "  <tbody>\n",
       "    <tr>\n",
       "      <th>0</th>\n",
       "      <td>100</td>\n",
       "    </tr>\n",
       "    <tr>\n",
       "      <th>1</th>\n",
       "      <td>200</td>\n",
       "    </tr>\n",
       "    <tr>\n",
       "      <th>2</th>\n",
       "      <td>150</td>\n",
       "    </tr>\n",
       "    <tr>\n",
       "      <th>3</th>\n",
       "      <td>300</td>\n",
       "    </tr>\n",
       "    <tr>\n",
       "      <th>4</th>\n",
       "      <td>180</td>\n",
       "    </tr>\n",
       "  </tbody>\n",
       "</table>\n",
       "</div>"
      ],
      "text/plain": [
       "   cost\n",
       "0   100\n",
       "1   200\n",
       "2   150\n",
       "3   300\n",
       "4   180"
      ]
     },
     "execution_count": 3,
     "metadata": {},
     "output_type": "execute_result"
    }
   ],
   "source": [
    "import pandas as pd\n",
    "df = pd.DataFrame(li, columns=['cost'])\n",
    "df"
   ]
  },
  {
   "cell_type": "markdown",
   "id": "3629d911-dd03-403a-b19d-cbc09b533016",
   "metadata": {},
   "source": [
    "<h1>Techniques to perform feature transformation</h1>\n",
    "<h5>Normalization</h5>\n",
    "<h5>Standardization</h5>\n",
    "<h5>Log Transformation</h5>\n",
    "<h5>Robust Scaler</h5>\n",
    "<h5>Max Absolute Scaling</h5>"
   ]
  },
  {
   "cell_type": "markdown",
   "id": "8f65aa71-c916-4b69-bbf2-ee069c8c439a",
   "metadata": {},
   "source": [
    "<h4>Normalization(Min-Max Scaler)</h4>"
   ]
  },
  {
   "cell_type": "code",
   "execution_count": 4,
   "id": "f14d3138-ef04-4253-9328-39eaea309569",
   "metadata": {},
   "outputs": [],
   "source": [
    "min_cost = df['cost'].min()\n",
    "max_cost = df['cost'].max()"
   ]
  },
  {
   "cell_type": "code",
   "execution_count": 5,
   "id": "986bc400-065a-4904-b6f7-f9d35fd64968",
   "metadata": {},
   "outputs": [
    {
     "data": {
      "text/plain": [
       "100"
      ]
     },
     "execution_count": 5,
     "metadata": {},
     "output_type": "execute_result"
    }
   ],
   "source": [
    "min_cost"
   ]
  },
  {
   "cell_type": "code",
   "execution_count": 6,
   "id": "043b12f2-a92b-4d06-9628-8c7dc92e865a",
   "metadata": {},
   "outputs": [
    {
     "data": {
      "text/plain": [
       "300"
      ]
     },
     "execution_count": 6,
     "metadata": {},
     "output_type": "execute_result"
    }
   ],
   "source": [
    "max_cost"
   ]
  },
  {
   "cell_type": "code",
   "execution_count": 7,
   "id": "5f3ab861-a526-4692-96bd-0196f7a34135",
   "metadata": {},
   "outputs": [],
   "source": [
    "df['cost_norm_manual'] = (df['cost'] - min_cost) / (max_cost - min_cost)"
   ]
  },
  {
   "cell_type": "code",
   "execution_count": 8,
   "id": "b73c2b4a-ebfd-4d53-8bd4-79475c88d887",
   "metadata": {},
   "outputs": [
    {
     "data": {
      "text/html": [
       "<div>\n",
       "<style scoped>\n",
       "    .dataframe tbody tr th:only-of-type {\n",
       "        vertical-align: middle;\n",
       "    }\n",
       "\n",
       "    .dataframe tbody tr th {\n",
       "        vertical-align: top;\n",
       "    }\n",
       "\n",
       "    .dataframe thead th {\n",
       "        text-align: right;\n",
       "    }\n",
       "</style>\n",
       "<table border=\"1\" class=\"dataframe\">\n",
       "  <thead>\n",
       "    <tr style=\"text-align: right;\">\n",
       "      <th></th>\n",
       "      <th>cost</th>\n",
       "      <th>cost_norm_manual</th>\n",
       "    </tr>\n",
       "  </thead>\n",
       "  <tbody>\n",
       "    <tr>\n",
       "      <th>0</th>\n",
       "      <td>100</td>\n",
       "      <td>0.00</td>\n",
       "    </tr>\n",
       "    <tr>\n",
       "      <th>1</th>\n",
       "      <td>200</td>\n",
       "      <td>0.50</td>\n",
       "    </tr>\n",
       "    <tr>\n",
       "      <th>2</th>\n",
       "      <td>150</td>\n",
       "      <td>0.25</td>\n",
       "    </tr>\n",
       "    <tr>\n",
       "      <th>3</th>\n",
       "      <td>300</td>\n",
       "      <td>1.00</td>\n",
       "    </tr>\n",
       "    <tr>\n",
       "      <th>4</th>\n",
       "      <td>180</td>\n",
       "      <td>0.40</td>\n",
       "    </tr>\n",
       "  </tbody>\n",
       "</table>\n",
       "</div>"
      ],
      "text/plain": [
       "   cost  cost_norm_manual\n",
       "0   100              0.00\n",
       "1   200              0.50\n",
       "2   150              0.25\n",
       "3   300              1.00\n",
       "4   180              0.40"
      ]
     },
     "execution_count": 8,
     "metadata": {},
     "output_type": "execute_result"
    }
   ],
   "source": [
    "df"
   ]
  },
  {
   "cell_type": "code",
   "execution_count": 9,
   "id": "eb687590-0b76-4bcb-98f2-d9f20dd25e5b",
   "metadata": {},
   "outputs": [],
   "source": [
    "from sklearn.preprocessing import MinMaxScaler"
   ]
  },
  {
   "cell_type": "code",
   "execution_count": 10,
   "id": "b4d06661-9b3d-4bc1-be80-64f270b865a2",
   "metadata": {},
   "outputs": [],
   "source": [
    "mmx = MinMaxScaler()"
   ]
  },
  {
   "cell_type": "code",
   "execution_count": 12,
   "id": "bcabb624-ac6d-4707-abfe-da3727b87ed3",
   "metadata": {},
   "outputs": [],
   "source": [
    "df['cost_norm_sklearn'] = mmx.fit_transform(df[['cost']])"
   ]
  },
  {
   "cell_type": "code",
   "execution_count": 13,
   "id": "440bdbac-2335-4a03-a2b5-f8ef5b14fc07",
   "metadata": {},
   "outputs": [
    {
     "data": {
      "text/html": [
       "<div>\n",
       "<style scoped>\n",
       "    .dataframe tbody tr th:only-of-type {\n",
       "        vertical-align: middle;\n",
       "    }\n",
       "\n",
       "    .dataframe tbody tr th {\n",
       "        vertical-align: top;\n",
       "    }\n",
       "\n",
       "    .dataframe thead th {\n",
       "        text-align: right;\n",
       "    }\n",
       "</style>\n",
       "<table border=\"1\" class=\"dataframe\">\n",
       "  <thead>\n",
       "    <tr style=\"text-align: right;\">\n",
       "      <th></th>\n",
       "      <th>cost</th>\n",
       "      <th>cost_norm_manual</th>\n",
       "      <th>cost_norm_sklearn</th>\n",
       "    </tr>\n",
       "  </thead>\n",
       "  <tbody>\n",
       "    <tr>\n",
       "      <th>0</th>\n",
       "      <td>100</td>\n",
       "      <td>0.00</td>\n",
       "      <td>0.00</td>\n",
       "    </tr>\n",
       "    <tr>\n",
       "      <th>1</th>\n",
       "      <td>200</td>\n",
       "      <td>0.50</td>\n",
       "      <td>0.50</td>\n",
       "    </tr>\n",
       "    <tr>\n",
       "      <th>2</th>\n",
       "      <td>150</td>\n",
       "      <td>0.25</td>\n",
       "      <td>0.25</td>\n",
       "    </tr>\n",
       "    <tr>\n",
       "      <th>3</th>\n",
       "      <td>300</td>\n",
       "      <td>1.00</td>\n",
       "      <td>1.00</td>\n",
       "    </tr>\n",
       "    <tr>\n",
       "      <th>4</th>\n",
       "      <td>180</td>\n",
       "      <td>0.40</td>\n",
       "      <td>0.40</td>\n",
       "    </tr>\n",
       "  </tbody>\n",
       "</table>\n",
       "</div>"
      ],
      "text/plain": [
       "   cost  cost_norm_manual  cost_norm_sklearn\n",
       "0   100              0.00               0.00\n",
       "1   200              0.50               0.50\n",
       "2   150              0.25               0.25\n",
       "3   300              1.00               1.00\n",
       "4   180              0.40               0.40"
      ]
     },
     "execution_count": 13,
     "metadata": {},
     "output_type": "execute_result"
    }
   ],
   "source": [
    "df"
   ]
  },
  {
   "cell_type": "markdown",
   "id": "14952b0f-db2c-4b19-a550-73cedef43068",
   "metadata": {},
   "source": [
    "<h4>Standardization (StandardScaler)</h4>"
   ]
  },
  {
   "cell_type": "code",
   "execution_count": 14,
   "id": "15205355-3181-4f66-873b-9d492e462cfe",
   "metadata": {},
   "outputs": [],
   "source": [
    "mean_cost = df['cost'].mean()\n",
    "std_cost = df['cost'].std()"
   ]
  },
  {
   "cell_type": "code",
   "execution_count": 15,
   "id": "9a9e290f-b96e-4415-bf1c-133ce080d113",
   "metadata": {},
   "outputs": [
    {
     "data": {
      "text/plain": [
       "186.0"
      ]
     },
     "execution_count": 15,
     "metadata": {},
     "output_type": "execute_result"
    }
   ],
   "source": [
    "mean_cost"
   ]
  },
  {
   "cell_type": "code",
   "execution_count": 16,
   "id": "2e3b5e4c-b429-4ec3-9511-bc29a207f7f5",
   "metadata": {},
   "outputs": [
    {
     "data": {
      "text/plain": [
       "74.02702209328699"
      ]
     },
     "execution_count": 16,
     "metadata": {},
     "output_type": "execute_result"
    }
   ],
   "source": [
    "std_cost"
   ]
  },
  {
   "cell_type": "code",
   "execution_count": 17,
   "id": "f6398d80-9f41-490a-9ea9-4744eea58e73",
   "metadata": {},
   "outputs": [],
   "source": [
    "df['cost_std_manual'] = (df['cost'] - mean_cost) / std_cost"
   ]
  },
  {
   "cell_type": "code",
   "execution_count": 18,
   "id": "5e8436eb-16ab-47dd-b2e7-ff0d028361ad",
   "metadata": {},
   "outputs": [
    {
     "data": {
      "text/html": [
       "<div>\n",
       "<style scoped>\n",
       "    .dataframe tbody tr th:only-of-type {\n",
       "        vertical-align: middle;\n",
       "    }\n",
       "\n",
       "    .dataframe tbody tr th {\n",
       "        vertical-align: top;\n",
       "    }\n",
       "\n",
       "    .dataframe thead th {\n",
       "        text-align: right;\n",
       "    }\n",
       "</style>\n",
       "<table border=\"1\" class=\"dataframe\">\n",
       "  <thead>\n",
       "    <tr style=\"text-align: right;\">\n",
       "      <th></th>\n",
       "      <th>cost</th>\n",
       "      <th>cost_norm_manual</th>\n",
       "      <th>cost_norm_sklearn</th>\n",
       "      <th>cost_std_manual</th>\n",
       "    </tr>\n",
       "  </thead>\n",
       "  <tbody>\n",
       "    <tr>\n",
       "      <th>0</th>\n",
       "      <td>100</td>\n",
       "      <td>0.00</td>\n",
       "      <td>0.00</td>\n",
       "      <td>-1.161738</td>\n",
       "    </tr>\n",
       "    <tr>\n",
       "      <th>1</th>\n",
       "      <td>200</td>\n",
       "      <td>0.50</td>\n",
       "      <td>0.50</td>\n",
       "      <td>0.189120</td>\n",
       "    </tr>\n",
       "    <tr>\n",
       "      <th>2</th>\n",
       "      <td>150</td>\n",
       "      <td>0.25</td>\n",
       "      <td>0.25</td>\n",
       "      <td>-0.486309</td>\n",
       "    </tr>\n",
       "    <tr>\n",
       "      <th>3</th>\n",
       "      <td>300</td>\n",
       "      <td>1.00</td>\n",
       "      <td>1.00</td>\n",
       "      <td>1.539978</td>\n",
       "    </tr>\n",
       "    <tr>\n",
       "      <th>4</th>\n",
       "      <td>180</td>\n",
       "      <td>0.40</td>\n",
       "      <td>0.40</td>\n",
       "      <td>-0.081051</td>\n",
       "    </tr>\n",
       "  </tbody>\n",
       "</table>\n",
       "</div>"
      ],
      "text/plain": [
       "   cost  cost_norm_manual  cost_norm_sklearn  cost_std_manual\n",
       "0   100              0.00               0.00        -1.161738\n",
       "1   200              0.50               0.50         0.189120\n",
       "2   150              0.25               0.25        -0.486309\n",
       "3   300              1.00               1.00         1.539978\n",
       "4   180              0.40               0.40        -0.081051"
      ]
     },
     "execution_count": 18,
     "metadata": {},
     "output_type": "execute_result"
    }
   ],
   "source": [
    "df"
   ]
  },
  {
   "cell_type": "code",
   "execution_count": 19,
   "id": "7768b800-1921-4f01-8490-9570a579f0f1",
   "metadata": {},
   "outputs": [],
   "source": [
    "from sklearn.preprocessing import StandardScaler"
   ]
  },
  {
   "cell_type": "code",
   "execution_count": 20,
   "id": "3cebe655-932d-433c-8a6f-fd55c84f4955",
   "metadata": {},
   "outputs": [],
   "source": [
    "ss = StandardScaler()"
   ]
  },
  {
   "cell_type": "code",
   "execution_count": 21,
   "id": "97764688-3862-44f9-b073-2ccf5bf31298",
   "metadata": {},
   "outputs": [],
   "source": [
    "df['cost_std_sklearn'] = ss.fit_transform(df[['cost']])"
   ]
  },
  {
   "cell_type": "code",
   "execution_count": 22,
   "id": "66f193c6-c9c4-4caa-9518-eb0ec0a00287",
   "metadata": {},
   "outputs": [
    {
     "data": {
      "text/html": [
       "<div>\n",
       "<style scoped>\n",
       "    .dataframe tbody tr th:only-of-type {\n",
       "        vertical-align: middle;\n",
       "    }\n",
       "\n",
       "    .dataframe tbody tr th {\n",
       "        vertical-align: top;\n",
       "    }\n",
       "\n",
       "    .dataframe thead th {\n",
       "        text-align: right;\n",
       "    }\n",
       "</style>\n",
       "<table border=\"1\" class=\"dataframe\">\n",
       "  <thead>\n",
       "    <tr style=\"text-align: right;\">\n",
       "      <th></th>\n",
       "      <th>cost</th>\n",
       "      <th>cost_norm_manual</th>\n",
       "      <th>cost_norm_sklearn</th>\n",
       "      <th>cost_std_manual</th>\n",
       "      <th>cost_std_sklearn</th>\n",
       "    </tr>\n",
       "  </thead>\n",
       "  <tbody>\n",
       "    <tr>\n",
       "      <th>0</th>\n",
       "      <td>100</td>\n",
       "      <td>0.00</td>\n",
       "      <td>0.00</td>\n",
       "      <td>-1.161738</td>\n",
       "      <td>-1.298863</td>\n",
       "    </tr>\n",
       "    <tr>\n",
       "      <th>1</th>\n",
       "      <td>200</td>\n",
       "      <td>0.50</td>\n",
       "      <td>0.50</td>\n",
       "      <td>0.189120</td>\n",
       "      <td>0.211443</td>\n",
       "    </tr>\n",
       "    <tr>\n",
       "      <th>2</th>\n",
       "      <td>150</td>\n",
       "      <td>0.25</td>\n",
       "      <td>0.25</td>\n",
       "      <td>-0.486309</td>\n",
       "      <td>-0.543710</td>\n",
       "    </tr>\n",
       "    <tr>\n",
       "      <th>3</th>\n",
       "      <td>300</td>\n",
       "      <td>1.00</td>\n",
       "      <td>1.00</td>\n",
       "      <td>1.539978</td>\n",
       "      <td>1.721748</td>\n",
       "    </tr>\n",
       "    <tr>\n",
       "      <th>4</th>\n",
       "      <td>180</td>\n",
       "      <td>0.40</td>\n",
       "      <td>0.40</td>\n",
       "      <td>-0.081051</td>\n",
       "      <td>-0.090618</td>\n",
       "    </tr>\n",
       "  </tbody>\n",
       "</table>\n",
       "</div>"
      ],
      "text/plain": [
       "   cost  cost_norm_manual  cost_norm_sklearn  cost_std_manual  \\\n",
       "0   100              0.00               0.00        -1.161738   \n",
       "1   200              0.50               0.50         0.189120   \n",
       "2   150              0.25               0.25        -0.486309   \n",
       "3   300              1.00               1.00         1.539978   \n",
       "4   180              0.40               0.40        -0.081051   \n",
       "\n",
       "   cost_std_sklearn  \n",
       "0         -1.298863  \n",
       "1          0.211443  \n",
       "2         -0.543710  \n",
       "3          1.721748  \n",
       "4         -0.090618  "
      ]
     },
     "execution_count": 22,
     "metadata": {},
     "output_type": "execute_result"
    }
   ],
   "source": [
    "df"
   ]
  },
  {
   "cell_type": "markdown",
   "id": "c6a61b13-8dbc-4fca-98ba-628537b00fbd",
   "metadata": {},
   "source": [
    "<h4>Log Transformation</h4>"
   ]
  },
  {
   "cell_type": "code",
   "execution_count": 25,
   "id": "f6a97405-408e-41c3-bc97-8340dbbd32aa",
   "metadata": {},
   "outputs": [],
   "source": [
    "from sklearn.preprocessing import FunctionTransformer\n",
    "import numpy as np"
   ]
  },
  {
   "cell_type": "code",
   "execution_count": 26,
   "id": "5de288a3-78f5-4b2b-9730-395361d74c34",
   "metadata": {},
   "outputs": [],
   "source": [
    "fc = FunctionTransformer(np.log1p)"
   ]
  },
  {
   "cell_type": "code",
   "execution_count": 27,
   "id": "9a882caa-6ad8-41cd-9a54-d81d0da69ea5",
   "metadata": {},
   "outputs": [],
   "source": [
    "df['cost_fc'] = fc.fit_transform(df[['cost']])"
   ]
  },
  {
   "cell_type": "code",
   "execution_count": 28,
   "id": "98d9c262-eb00-40af-9501-f92953d1d47c",
   "metadata": {},
   "outputs": [
    {
     "data": {
      "text/html": [
       "<div>\n",
       "<style scoped>\n",
       "    .dataframe tbody tr th:only-of-type {\n",
       "        vertical-align: middle;\n",
       "    }\n",
       "\n",
       "    .dataframe tbody tr th {\n",
       "        vertical-align: top;\n",
       "    }\n",
       "\n",
       "    .dataframe thead th {\n",
       "        text-align: right;\n",
       "    }\n",
       "</style>\n",
       "<table border=\"1\" class=\"dataframe\">\n",
       "  <thead>\n",
       "    <tr style=\"text-align: right;\">\n",
       "      <th></th>\n",
       "      <th>cost</th>\n",
       "      <th>cost_norm_manual</th>\n",
       "      <th>cost_norm_sklearn</th>\n",
       "      <th>cost_std_manual</th>\n",
       "      <th>cost_std_sklearn</th>\n",
       "      <th>cost_fc</th>\n",
       "    </tr>\n",
       "  </thead>\n",
       "  <tbody>\n",
       "    <tr>\n",
       "      <th>0</th>\n",
       "      <td>100</td>\n",
       "      <td>0.00</td>\n",
       "      <td>0.00</td>\n",
       "      <td>-1.161738</td>\n",
       "      <td>-1.298863</td>\n",
       "      <td>4.615121</td>\n",
       "    </tr>\n",
       "    <tr>\n",
       "      <th>1</th>\n",
       "      <td>200</td>\n",
       "      <td>0.50</td>\n",
       "      <td>0.50</td>\n",
       "      <td>0.189120</td>\n",
       "      <td>0.211443</td>\n",
       "      <td>5.303305</td>\n",
       "    </tr>\n",
       "    <tr>\n",
       "      <th>2</th>\n",
       "      <td>150</td>\n",
       "      <td>0.25</td>\n",
       "      <td>0.25</td>\n",
       "      <td>-0.486309</td>\n",
       "      <td>-0.543710</td>\n",
       "      <td>5.017280</td>\n",
       "    </tr>\n",
       "    <tr>\n",
       "      <th>3</th>\n",
       "      <td>300</td>\n",
       "      <td>1.00</td>\n",
       "      <td>1.00</td>\n",
       "      <td>1.539978</td>\n",
       "      <td>1.721748</td>\n",
       "      <td>5.707110</td>\n",
       "    </tr>\n",
       "    <tr>\n",
       "      <th>4</th>\n",
       "      <td>180</td>\n",
       "      <td>0.40</td>\n",
       "      <td>0.40</td>\n",
       "      <td>-0.081051</td>\n",
       "      <td>-0.090618</td>\n",
       "      <td>5.198497</td>\n",
       "    </tr>\n",
       "  </tbody>\n",
       "</table>\n",
       "</div>"
      ],
      "text/plain": [
       "   cost  cost_norm_manual  cost_norm_sklearn  cost_std_manual  \\\n",
       "0   100              0.00               0.00        -1.161738   \n",
       "1   200              0.50               0.50         0.189120   \n",
       "2   150              0.25               0.25        -0.486309   \n",
       "3   300              1.00               1.00         1.539978   \n",
       "4   180              0.40               0.40        -0.081051   \n",
       "\n",
       "   cost_std_sklearn   cost_fc  \n",
       "0         -1.298863  4.615121  \n",
       "1          0.211443  5.303305  \n",
       "2         -0.543710  5.017280  \n",
       "3          1.721748  5.707110  \n",
       "4         -0.090618  5.198497  "
      ]
     },
     "execution_count": 28,
     "metadata": {},
     "output_type": "execute_result"
    }
   ],
   "source": [
    "df"
   ]
  },
  {
   "cell_type": "code",
   "execution_count": 29,
   "id": "a098d570-a485-442f-8155-35f17d552b51",
   "metadata": {},
   "outputs": [],
   "source": [
    "df['fc_np'] = np.log1p(df['cost'])"
   ]
  },
  {
   "cell_type": "code",
   "execution_count": 30,
   "id": "5b1c5bd8-4eae-47fe-8899-f1a1612826bc",
   "metadata": {},
   "outputs": [
    {
     "data": {
      "text/html": [
       "<div>\n",
       "<style scoped>\n",
       "    .dataframe tbody tr th:only-of-type {\n",
       "        vertical-align: middle;\n",
       "    }\n",
       "\n",
       "    .dataframe tbody tr th {\n",
       "        vertical-align: top;\n",
       "    }\n",
       "\n",
       "    .dataframe thead th {\n",
       "        text-align: right;\n",
       "    }\n",
       "</style>\n",
       "<table border=\"1\" class=\"dataframe\">\n",
       "  <thead>\n",
       "    <tr style=\"text-align: right;\">\n",
       "      <th></th>\n",
       "      <th>cost</th>\n",
       "      <th>cost_norm_manual</th>\n",
       "      <th>cost_norm_sklearn</th>\n",
       "      <th>cost_std_manual</th>\n",
       "      <th>cost_std_sklearn</th>\n",
       "      <th>cost_fc</th>\n",
       "      <th>fc_np</th>\n",
       "    </tr>\n",
       "  </thead>\n",
       "  <tbody>\n",
       "    <tr>\n",
       "      <th>0</th>\n",
       "      <td>100</td>\n",
       "      <td>0.00</td>\n",
       "      <td>0.00</td>\n",
       "      <td>-1.161738</td>\n",
       "      <td>-1.298863</td>\n",
       "      <td>4.615121</td>\n",
       "      <td>4.615121</td>\n",
       "    </tr>\n",
       "    <tr>\n",
       "      <th>1</th>\n",
       "      <td>200</td>\n",
       "      <td>0.50</td>\n",
       "      <td>0.50</td>\n",
       "      <td>0.189120</td>\n",
       "      <td>0.211443</td>\n",
       "      <td>5.303305</td>\n",
       "      <td>5.303305</td>\n",
       "    </tr>\n",
       "    <tr>\n",
       "      <th>2</th>\n",
       "      <td>150</td>\n",
       "      <td>0.25</td>\n",
       "      <td>0.25</td>\n",
       "      <td>-0.486309</td>\n",
       "      <td>-0.543710</td>\n",
       "      <td>5.017280</td>\n",
       "      <td>5.017280</td>\n",
       "    </tr>\n",
       "    <tr>\n",
       "      <th>3</th>\n",
       "      <td>300</td>\n",
       "      <td>1.00</td>\n",
       "      <td>1.00</td>\n",
       "      <td>1.539978</td>\n",
       "      <td>1.721748</td>\n",
       "      <td>5.707110</td>\n",
       "      <td>5.707110</td>\n",
       "    </tr>\n",
       "    <tr>\n",
       "      <th>4</th>\n",
       "      <td>180</td>\n",
       "      <td>0.40</td>\n",
       "      <td>0.40</td>\n",
       "      <td>-0.081051</td>\n",
       "      <td>-0.090618</td>\n",
       "      <td>5.198497</td>\n",
       "      <td>5.198497</td>\n",
       "    </tr>\n",
       "  </tbody>\n",
       "</table>\n",
       "</div>"
      ],
      "text/plain": [
       "   cost  cost_norm_manual  cost_norm_sklearn  cost_std_manual  \\\n",
       "0   100              0.00               0.00        -1.161738   \n",
       "1   200              0.50               0.50         0.189120   \n",
       "2   150              0.25               0.25        -0.486309   \n",
       "3   300              1.00               1.00         1.539978   \n",
       "4   180              0.40               0.40        -0.081051   \n",
       "\n",
       "   cost_std_sklearn   cost_fc     fc_np  \n",
       "0         -1.298863  4.615121  4.615121  \n",
       "1          0.211443  5.303305  5.303305  \n",
       "2         -0.543710  5.017280  5.017280  \n",
       "3          1.721748  5.707110  5.707110  \n",
       "4         -0.090618  5.198497  5.198497  "
      ]
     },
     "execution_count": 30,
     "metadata": {},
     "output_type": "execute_result"
    }
   ],
   "source": [
    "df"
   ]
  },
  {
   "cell_type": "markdown",
   "id": "e6877d87-4a56-450d-bdd4-3d67f6165ad9",
   "metadata": {},
   "source": [
    "<h4>Robust Scaler</h4>"
   ]
  },
  {
   "cell_type": "code",
   "execution_count": 31,
   "id": "cedf384c-e21c-4cbe-9b8f-8cd9523d2d11",
   "metadata": {},
   "outputs": [],
   "source": [
    "from sklearn.preprocessing import RobustScaler"
   ]
  },
  {
   "cell_type": "code",
   "execution_count": 32,
   "id": "0f3d134c-743d-4619-a41d-ec5e65010094",
   "metadata": {},
   "outputs": [],
   "source": [
    "rs = RobustScaler()"
   ]
  },
  {
   "cell_type": "code",
   "execution_count": 33,
   "id": "b9748383-71f6-4b90-8fed-045484979203",
   "metadata": {},
   "outputs": [],
   "source": [
    "df['cost_rs_sklearn'] = rs.fit_transform(df[['cost']])"
   ]
  },
  {
   "cell_type": "code",
   "execution_count": 34,
   "id": "28294ef3-2264-4ef4-8e90-95684c0e3f10",
   "metadata": {},
   "outputs": [
    {
     "data": {
      "text/html": [
       "<div>\n",
       "<style scoped>\n",
       "    .dataframe tbody tr th:only-of-type {\n",
       "        vertical-align: middle;\n",
       "    }\n",
       "\n",
       "    .dataframe tbody tr th {\n",
       "        vertical-align: top;\n",
       "    }\n",
       "\n",
       "    .dataframe thead th {\n",
       "        text-align: right;\n",
       "    }\n",
       "</style>\n",
       "<table border=\"1\" class=\"dataframe\">\n",
       "  <thead>\n",
       "    <tr style=\"text-align: right;\">\n",
       "      <th></th>\n",
       "      <th>cost</th>\n",
       "      <th>cost_norm_manual</th>\n",
       "      <th>cost_norm_sklearn</th>\n",
       "      <th>cost_std_manual</th>\n",
       "      <th>cost_std_sklearn</th>\n",
       "      <th>cost_fc</th>\n",
       "      <th>fc_np</th>\n",
       "      <th>cost_rs_sklearn</th>\n",
       "    </tr>\n",
       "  </thead>\n",
       "  <tbody>\n",
       "    <tr>\n",
       "      <th>0</th>\n",
       "      <td>100</td>\n",
       "      <td>0.00</td>\n",
       "      <td>0.00</td>\n",
       "      <td>-1.161738</td>\n",
       "      <td>-1.298863</td>\n",
       "      <td>4.615121</td>\n",
       "      <td>4.615121</td>\n",
       "      <td>-1.6</td>\n",
       "    </tr>\n",
       "    <tr>\n",
       "      <th>1</th>\n",
       "      <td>200</td>\n",
       "      <td>0.50</td>\n",
       "      <td>0.50</td>\n",
       "      <td>0.189120</td>\n",
       "      <td>0.211443</td>\n",
       "      <td>5.303305</td>\n",
       "      <td>5.303305</td>\n",
       "      <td>0.4</td>\n",
       "    </tr>\n",
       "    <tr>\n",
       "      <th>2</th>\n",
       "      <td>150</td>\n",
       "      <td>0.25</td>\n",
       "      <td>0.25</td>\n",
       "      <td>-0.486309</td>\n",
       "      <td>-0.543710</td>\n",
       "      <td>5.017280</td>\n",
       "      <td>5.017280</td>\n",
       "      <td>-0.6</td>\n",
       "    </tr>\n",
       "    <tr>\n",
       "      <th>3</th>\n",
       "      <td>300</td>\n",
       "      <td>1.00</td>\n",
       "      <td>1.00</td>\n",
       "      <td>1.539978</td>\n",
       "      <td>1.721748</td>\n",
       "      <td>5.707110</td>\n",
       "      <td>5.707110</td>\n",
       "      <td>2.4</td>\n",
       "    </tr>\n",
       "    <tr>\n",
       "      <th>4</th>\n",
       "      <td>180</td>\n",
       "      <td>0.40</td>\n",
       "      <td>0.40</td>\n",
       "      <td>-0.081051</td>\n",
       "      <td>-0.090618</td>\n",
       "      <td>5.198497</td>\n",
       "      <td>5.198497</td>\n",
       "      <td>0.0</td>\n",
       "    </tr>\n",
       "  </tbody>\n",
       "</table>\n",
       "</div>"
      ],
      "text/plain": [
       "   cost  cost_norm_manual  cost_norm_sklearn  cost_std_manual  \\\n",
       "0   100              0.00               0.00        -1.161738   \n",
       "1   200              0.50               0.50         0.189120   \n",
       "2   150              0.25               0.25        -0.486309   \n",
       "3   300              1.00               1.00         1.539978   \n",
       "4   180              0.40               0.40        -0.081051   \n",
       "\n",
       "   cost_std_sklearn   cost_fc     fc_np  cost_rs_sklearn  \n",
       "0         -1.298863  4.615121  4.615121             -1.6  \n",
       "1          0.211443  5.303305  5.303305              0.4  \n",
       "2         -0.543710  5.017280  5.017280             -0.6  \n",
       "3          1.721748  5.707110  5.707110              2.4  \n",
       "4         -0.090618  5.198497  5.198497              0.0  "
      ]
     },
     "execution_count": 34,
     "metadata": {},
     "output_type": "execute_result"
    }
   ],
   "source": [
    "df"
   ]
  },
  {
   "cell_type": "markdown",
   "id": "de60d917-eb73-448a-9330-34520a1cd744",
   "metadata": {},
   "source": [
    "<h4>Max Absolute Error</h4>"
   ]
  },
  {
   "cell_type": "code",
   "execution_count": 35,
   "id": "fe82a9dd-a7f0-4cf8-81ae-eecf09bc06cf",
   "metadata": {},
   "outputs": [],
   "source": [
    "max_x = df['cost'].max()"
   ]
  },
  {
   "cell_type": "code",
   "execution_count": 36,
   "id": "d5a8c9a9-3503-481f-a58f-5022233a8058",
   "metadata": {},
   "outputs": [
    {
     "data": {
      "text/plain": [
       "300"
      ]
     },
     "execution_count": 36,
     "metadata": {},
     "output_type": "execute_result"
    }
   ],
   "source": [
    "max_x"
   ]
  },
  {
   "cell_type": "code",
   "execution_count": 37,
   "id": "7c80ef2a-5dfc-4a81-bd30-1796ede20ba1",
   "metadata": {},
   "outputs": [],
   "source": [
    "df['cost_mae_manual'] = df['cost'] / max_x"
   ]
  },
  {
   "cell_type": "code",
   "execution_count": 38,
   "id": "b6107eec-4ac7-49aa-9d86-e913a91729a4",
   "metadata": {},
   "outputs": [
    {
     "data": {
      "text/html": [
       "<div>\n",
       "<style scoped>\n",
       "    .dataframe tbody tr th:only-of-type {\n",
       "        vertical-align: middle;\n",
       "    }\n",
       "\n",
       "    .dataframe tbody tr th {\n",
       "        vertical-align: top;\n",
       "    }\n",
       "\n",
       "    .dataframe thead th {\n",
       "        text-align: right;\n",
       "    }\n",
       "</style>\n",
       "<table border=\"1\" class=\"dataframe\">\n",
       "  <thead>\n",
       "    <tr style=\"text-align: right;\">\n",
       "      <th></th>\n",
       "      <th>cost</th>\n",
       "      <th>cost_norm_manual</th>\n",
       "      <th>cost_norm_sklearn</th>\n",
       "      <th>cost_std_manual</th>\n",
       "      <th>cost_std_sklearn</th>\n",
       "      <th>cost_fc</th>\n",
       "      <th>fc_np</th>\n",
       "      <th>cost_rs_sklearn</th>\n",
       "      <th>cost_mae_manual</th>\n",
       "    </tr>\n",
       "  </thead>\n",
       "  <tbody>\n",
       "    <tr>\n",
       "      <th>0</th>\n",
       "      <td>100</td>\n",
       "      <td>0.00</td>\n",
       "      <td>0.00</td>\n",
       "      <td>-1.161738</td>\n",
       "      <td>-1.298863</td>\n",
       "      <td>4.615121</td>\n",
       "      <td>4.615121</td>\n",
       "      <td>-1.6</td>\n",
       "      <td>0.333333</td>\n",
       "    </tr>\n",
       "    <tr>\n",
       "      <th>1</th>\n",
       "      <td>200</td>\n",
       "      <td>0.50</td>\n",
       "      <td>0.50</td>\n",
       "      <td>0.189120</td>\n",
       "      <td>0.211443</td>\n",
       "      <td>5.303305</td>\n",
       "      <td>5.303305</td>\n",
       "      <td>0.4</td>\n",
       "      <td>0.666667</td>\n",
       "    </tr>\n",
       "    <tr>\n",
       "      <th>2</th>\n",
       "      <td>150</td>\n",
       "      <td>0.25</td>\n",
       "      <td>0.25</td>\n",
       "      <td>-0.486309</td>\n",
       "      <td>-0.543710</td>\n",
       "      <td>5.017280</td>\n",
       "      <td>5.017280</td>\n",
       "      <td>-0.6</td>\n",
       "      <td>0.500000</td>\n",
       "    </tr>\n",
       "    <tr>\n",
       "      <th>3</th>\n",
       "      <td>300</td>\n",
       "      <td>1.00</td>\n",
       "      <td>1.00</td>\n",
       "      <td>1.539978</td>\n",
       "      <td>1.721748</td>\n",
       "      <td>5.707110</td>\n",
       "      <td>5.707110</td>\n",
       "      <td>2.4</td>\n",
       "      <td>1.000000</td>\n",
       "    </tr>\n",
       "    <tr>\n",
       "      <th>4</th>\n",
       "      <td>180</td>\n",
       "      <td>0.40</td>\n",
       "      <td>0.40</td>\n",
       "      <td>-0.081051</td>\n",
       "      <td>-0.090618</td>\n",
       "      <td>5.198497</td>\n",
       "      <td>5.198497</td>\n",
       "      <td>0.0</td>\n",
       "      <td>0.600000</td>\n",
       "    </tr>\n",
       "  </tbody>\n",
       "</table>\n",
       "</div>"
      ],
      "text/plain": [
       "   cost  cost_norm_manual  cost_norm_sklearn  cost_std_manual  \\\n",
       "0   100              0.00               0.00        -1.161738   \n",
       "1   200              0.50               0.50         0.189120   \n",
       "2   150              0.25               0.25        -0.486309   \n",
       "3   300              1.00               1.00         1.539978   \n",
       "4   180              0.40               0.40        -0.081051   \n",
       "\n",
       "   cost_std_sklearn   cost_fc     fc_np  cost_rs_sklearn  cost_mae_manual  \n",
       "0         -1.298863  4.615121  4.615121             -1.6         0.333333  \n",
       "1          0.211443  5.303305  5.303305              0.4         0.666667  \n",
       "2         -0.543710  5.017280  5.017280             -0.6         0.500000  \n",
       "3          1.721748  5.707110  5.707110              2.4         1.000000  \n",
       "4         -0.090618  5.198497  5.198497              0.0         0.600000  "
      ]
     },
     "execution_count": 38,
     "metadata": {},
     "output_type": "execute_result"
    }
   ],
   "source": [
    "df"
   ]
  },
  {
   "cell_type": "code",
   "execution_count": 40,
   "id": "76dfeb8e-8411-405a-8721-32e016906125",
   "metadata": {},
   "outputs": [],
   "source": [
    "from sklearn.preprocessing import MaxAbsScaler"
   ]
  },
  {
   "cell_type": "code",
   "execution_count": 41,
   "id": "f26deaca-6052-4312-92b2-42240621e8c5",
   "metadata": {},
   "outputs": [],
   "source": [
    "mas = MaxAbsScaler()"
   ]
  },
  {
   "cell_type": "code",
   "execution_count": 42,
   "id": "6ff19f40-82d6-4187-b63a-eb6ba1e8dd80",
   "metadata": {},
   "outputs": [],
   "source": [
    "df['cost_mae_sklearn'] = mas.fit_transform(df[['cost']])"
   ]
  },
  {
   "cell_type": "code",
   "execution_count": 43,
   "id": "753ef97e-3beb-4ce8-a8d5-9d346ecd1ccc",
   "metadata": {},
   "outputs": [
    {
     "data": {
      "text/html": [
       "<div>\n",
       "<style scoped>\n",
       "    .dataframe tbody tr th:only-of-type {\n",
       "        vertical-align: middle;\n",
       "    }\n",
       "\n",
       "    .dataframe tbody tr th {\n",
       "        vertical-align: top;\n",
       "    }\n",
       "\n",
       "    .dataframe thead th {\n",
       "        text-align: right;\n",
       "    }\n",
       "</style>\n",
       "<table border=\"1\" class=\"dataframe\">\n",
       "  <thead>\n",
       "    <tr style=\"text-align: right;\">\n",
       "      <th></th>\n",
       "      <th>cost</th>\n",
       "      <th>cost_norm_manual</th>\n",
       "      <th>cost_norm_sklearn</th>\n",
       "      <th>cost_std_manual</th>\n",
       "      <th>cost_std_sklearn</th>\n",
       "      <th>cost_fc</th>\n",
       "      <th>fc_np</th>\n",
       "      <th>cost_rs_sklearn</th>\n",
       "      <th>cost_mae_manual</th>\n",
       "      <th>cost_mae_sklearn</th>\n",
       "    </tr>\n",
       "  </thead>\n",
       "  <tbody>\n",
       "    <tr>\n",
       "      <th>0</th>\n",
       "      <td>100</td>\n",
       "      <td>0.00</td>\n",
       "      <td>0.00</td>\n",
       "      <td>-1.161738</td>\n",
       "      <td>-1.298863</td>\n",
       "      <td>4.615121</td>\n",
       "      <td>4.615121</td>\n",
       "      <td>-1.6</td>\n",
       "      <td>0.333333</td>\n",
       "      <td>0.333333</td>\n",
       "    </tr>\n",
       "    <tr>\n",
       "      <th>1</th>\n",
       "      <td>200</td>\n",
       "      <td>0.50</td>\n",
       "      <td>0.50</td>\n",
       "      <td>0.189120</td>\n",
       "      <td>0.211443</td>\n",
       "      <td>5.303305</td>\n",
       "      <td>5.303305</td>\n",
       "      <td>0.4</td>\n",
       "      <td>0.666667</td>\n",
       "      <td>0.666667</td>\n",
       "    </tr>\n",
       "    <tr>\n",
       "      <th>2</th>\n",
       "      <td>150</td>\n",
       "      <td>0.25</td>\n",
       "      <td>0.25</td>\n",
       "      <td>-0.486309</td>\n",
       "      <td>-0.543710</td>\n",
       "      <td>5.017280</td>\n",
       "      <td>5.017280</td>\n",
       "      <td>-0.6</td>\n",
       "      <td>0.500000</td>\n",
       "      <td>0.500000</td>\n",
       "    </tr>\n",
       "    <tr>\n",
       "      <th>3</th>\n",
       "      <td>300</td>\n",
       "      <td>1.00</td>\n",
       "      <td>1.00</td>\n",
       "      <td>1.539978</td>\n",
       "      <td>1.721748</td>\n",
       "      <td>5.707110</td>\n",
       "      <td>5.707110</td>\n",
       "      <td>2.4</td>\n",
       "      <td>1.000000</td>\n",
       "      <td>1.000000</td>\n",
       "    </tr>\n",
       "    <tr>\n",
       "      <th>4</th>\n",
       "      <td>180</td>\n",
       "      <td>0.40</td>\n",
       "      <td>0.40</td>\n",
       "      <td>-0.081051</td>\n",
       "      <td>-0.090618</td>\n",
       "      <td>5.198497</td>\n",
       "      <td>5.198497</td>\n",
       "      <td>0.0</td>\n",
       "      <td>0.600000</td>\n",
       "      <td>0.600000</td>\n",
       "    </tr>\n",
       "  </tbody>\n",
       "</table>\n",
       "</div>"
      ],
      "text/plain": [
       "   cost  cost_norm_manual  cost_norm_sklearn  cost_std_manual  \\\n",
       "0   100              0.00               0.00        -1.161738   \n",
       "1   200              0.50               0.50         0.189120   \n",
       "2   150              0.25               0.25        -0.486309   \n",
       "3   300              1.00               1.00         1.539978   \n",
       "4   180              0.40               0.40        -0.081051   \n",
       "\n",
       "   cost_std_sklearn   cost_fc     fc_np  cost_rs_sklearn  cost_mae_manual  \\\n",
       "0         -1.298863  4.615121  4.615121             -1.6         0.333333   \n",
       "1          0.211443  5.303305  5.303305              0.4         0.666667   \n",
       "2         -0.543710  5.017280  5.017280             -0.6         0.500000   \n",
       "3          1.721748  5.707110  5.707110              2.4         1.000000   \n",
       "4         -0.090618  5.198497  5.198497              0.0         0.600000   \n",
       "\n",
       "   cost_mae_sklearn  \n",
       "0          0.333333  \n",
       "1          0.666667  \n",
       "2          0.500000  \n",
       "3          1.000000  \n",
       "4          0.600000  "
      ]
     },
     "execution_count": 43,
     "metadata": {},
     "output_type": "execute_result"
    }
   ],
   "source": [
    "df"
   ]
  },
  {
   "cell_type": "code",
   "execution_count": null,
   "id": "b0b8066a-2354-4ee6-a98f-40b805f02a95",
   "metadata": {},
   "outputs": [],
   "source": []
  }
 ],
 "metadata": {
  "kernelspec": {
   "display_name": "Python 3 (ipykernel)",
   "language": "python",
   "name": "python3"
  },
  "language_info": {
   "codemirror_mode": {
    "name": "ipython",
    "version": 3
   },
   "file_extension": ".py",
   "mimetype": "text/x-python",
   "name": "python",
   "nbconvert_exporter": "python",
   "pygments_lexer": "ipython3",
   "version": "3.11.7"
  }
 },
 "nbformat": 4,
 "nbformat_minor": 5
}
